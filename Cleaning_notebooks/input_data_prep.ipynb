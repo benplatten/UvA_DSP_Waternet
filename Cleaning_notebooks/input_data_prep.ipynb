{
 "metadata": {
  "language_info": {
   "codemirror_mode": {
    "name": "ipython",
    "version": 3
   },
   "file_extension": ".py",
   "mimetype": "text/x-python",
   "name": "python",
   "nbconvert_exporter": "python",
   "pygments_lexer": "ipython3",
   "version": "3.8.1-final"
  },
  "orig_nbformat": 2,
  "kernelspec": {
   "name": "python3",
   "display_name": "Python 3",
   "language": "python"
  }
 },
 "nbformat": 4,
 "nbformat_minor": 2,
 "cells": [
  {
   "cell_type": "code",
   "execution_count": 1,
   "metadata": {},
   "outputs": [],
   "source": [
    "import pandas as pd\n",
    "import numpy as np\n",
    "import seaborn as sns\n",
    "import matplotlib.pyplot as plt\n",
    "from datetime import datetime, timezone, timedelta\n",
    "import time\n",
    "import os"
   ]
  },
  {
   "cell_type": "code",
   "execution_count": 2,
   "metadata": {},
   "outputs": [],
   "source": [
    "# Default settings\n",
    "pd.options.display.max_columns = None\n",
    "%matplotlib inline\n",
    "sns.set(style=\"darkgrid\")\n",
    "random_seed = 42"
   ]
  },
  {
   "cell_type": "code",
   "execution_count": 3,
   "metadata": {},
   "outputs": [
    {
     "output_type": "execute_result",
     "data": {
      "text/plain": [
       "([2010, 2011, 2012, 2013, 2014, 2015, 2016, 2017, 2018, 2019, 2020],\n",
       " ['HHB', 'HHO', 'GZB', 'KZB', 'KZO'],\n",
       " ['A Centrum',\n",
       "  'B Westpoort',\n",
       "  'E West',\n",
       "  'F Nieuw-West',\n",
       "  'K Zuid',\n",
       "  'M Oost',\n",
       "  'T Zuidoost',\n",
       "  'Amstelveen',\n",
       "  'Diemen',\n",
       "  'Heemstede',\n",
       "  'Muiden',\n",
       "  'Ouder-Amstel',\n",
       "  'Schiphol'])"
      ]
     },
     "metadata": {},
     "execution_count": 3
    }
   ],
   "source": [
    "years = np.arange(2010, 2021).tolist()\n",
    "object_types = ['HHB', 'HHO', 'GZB', 'KZB', 'KZO']\n",
    "regions = ['A Centrum', 'B Westpoort', 'E West', 'F Nieuw-West', 'K Zuid', 'M Oost', 'T Zuidoost',\\\n",
    "    'Amstelveen', 'Diemen', 'Heemstede', 'Muiden', 'Ouder-Amstel', 'Schiphol']\n",
    "years, object_types, regions"
   ]
  },
  {
   "cell_type": "code",
   "execution_count": 4,
   "metadata": {},
   "outputs": [
    {
     "output_type": "execute_result",
     "data": {
      "text/plain": [
       "MultiIndex([(2010, 'HHB',    'A Centrum'),\n",
       "            (2010, 'HHB',  'B Westpoort'),\n",
       "            (2010, 'HHB',       'E West'),\n",
       "            (2010, 'HHB', 'F Nieuw-West'),\n",
       "            (2010, 'HHB',       'K Zuid'),\n",
       "            (2010, 'HHB',       'M Oost'),\n",
       "            (2010, 'HHB',   'T Zuidoost'),\n",
       "            (2010, 'HHB',   'Amstelveen'),\n",
       "            (2010, 'HHB',       'Diemen'),\n",
       "            (2010, 'HHB',    'Heemstede'),\n",
       "            ...\n",
       "            (2020, 'KZO', 'F Nieuw-West'),\n",
       "            (2020, 'KZO',       'K Zuid'),\n",
       "            (2020, 'KZO',       'M Oost'),\n",
       "            (2020, 'KZO',   'T Zuidoost'),\n",
       "            (2020, 'KZO',   'Amstelveen'),\n",
       "            (2020, 'KZO',       'Diemen'),\n",
       "            (2020, 'KZO',    'Heemstede'),\n",
       "            (2020, 'KZO',       'Muiden'),\n",
       "            (2020, 'KZO', 'Ouder-Amstel'),\n",
       "            (2020, 'KZO',     'Schiphol')],\n",
       "           names=['Year', 'Object_type', 'Region'], length=715)"
      ]
     },
     "metadata": {},
     "execution_count": 4
    }
   ],
   "source": [
    "idx = pd.MultiIndex.from_product([years, object_types, regions], names=['Year', 'Object_type', 'Region'])\n",
    "idx"
   ]
  },
  {
   "cell_type": "code",
   "execution_count": 5,
   "metadata": {},
   "outputs": [
    {
     "output_type": "execute_result",
     "data": {
      "text/plain": [
       "     Year Object_type        Region\n",
       "0    2010         HHB     A Centrum\n",
       "1    2010         HHB   B Westpoort\n",
       "2    2010         HHB        E West\n",
       "3    2010         HHB  F Nieuw-West\n",
       "4    2010         HHB        K Zuid\n",
       "..    ...         ...           ...\n",
       "710  2020         KZO        Diemen\n",
       "711  2020         KZO     Heemstede\n",
       "712  2020         KZO        Muiden\n",
       "713  2020         KZO  Ouder-Amstel\n",
       "714  2020         KZO      Schiphol\n",
       "\n",
       "[715 rows x 3 columns]"
      ],
      "text/html": "<div>\n<style scoped>\n    .dataframe tbody tr th:only-of-type {\n        vertical-align: middle;\n    }\n\n    .dataframe tbody tr th {\n        vertical-align: top;\n    }\n\n    .dataframe thead th {\n        text-align: right;\n    }\n</style>\n<table border=\"1\" class=\"dataframe\">\n  <thead>\n    <tr style=\"text-align: right;\">\n      <th></th>\n      <th>Year</th>\n      <th>Object_type</th>\n      <th>Region</th>\n    </tr>\n  </thead>\n  <tbody>\n    <tr>\n      <th>0</th>\n      <td>2010</td>\n      <td>HHB</td>\n      <td>A Centrum</td>\n    </tr>\n    <tr>\n      <th>1</th>\n      <td>2010</td>\n      <td>HHB</td>\n      <td>B Westpoort</td>\n    </tr>\n    <tr>\n      <th>2</th>\n      <td>2010</td>\n      <td>HHB</td>\n      <td>E West</td>\n    </tr>\n    <tr>\n      <th>3</th>\n      <td>2010</td>\n      <td>HHB</td>\n      <td>F Nieuw-West</td>\n    </tr>\n    <tr>\n      <th>4</th>\n      <td>2010</td>\n      <td>HHB</td>\n      <td>K Zuid</td>\n    </tr>\n    <tr>\n      <th>...</th>\n      <td>...</td>\n      <td>...</td>\n      <td>...</td>\n    </tr>\n    <tr>\n      <th>710</th>\n      <td>2020</td>\n      <td>KZO</td>\n      <td>Diemen</td>\n    </tr>\n    <tr>\n      <th>711</th>\n      <td>2020</td>\n      <td>KZO</td>\n      <td>Heemstede</td>\n    </tr>\n    <tr>\n      <th>712</th>\n      <td>2020</td>\n      <td>KZO</td>\n      <td>Muiden</td>\n    </tr>\n    <tr>\n      <th>713</th>\n      <td>2020</td>\n      <td>KZO</td>\n      <td>Ouder-Amstel</td>\n    </tr>\n    <tr>\n      <th>714</th>\n      <td>2020</td>\n      <td>KZO</td>\n      <td>Schiphol</td>\n    </tr>\n  </tbody>\n</table>\n<p>715 rows × 3 columns</p>\n</div>"
     },
     "metadata": {},
     "execution_count": 5
    }
   ],
   "source": [
    "df = pd.DataFrame(index=idx).reset_index()\n",
    "df"
   ]
  },
  {
   "cell_type": "code",
   "execution_count": 39,
   "metadata": {},
   "outputs": [
    {
     "output_type": "execute_result",
     "data": {
      "text/plain": [
       "                      Bevolking|Aantal inwoners  \\\n",
       "Jaar Regio's                                      \n",
       "2010 Amstelveen                           80695   \n",
       "     Amsterdam Oud-Z                      85875   \n",
       "     Amsterdam-Noord                      86265   \n",
       "     Binnenstad                           82660   \n",
       "     Bos en Lommer                        30860   \n",
       "...                                         ...   \n",
       "2020 Ouder-Amstel                         14026   \n",
       "     West                                147350   \n",
       "     Westpoort                              105   \n",
       "     Zuid                                146290   \n",
       "     Zuidoost                             89810   \n",
       "\n",
       "                      Bevolking|Leeftijdsgroepen|0 tot 15 jaar  \\\n",
       "Jaar Regio's                                                     \n",
       "2010 Amstelveen                                          13398   \n",
       "     Amsterdam Oud-Z                                        13   \n",
       "     Amsterdam-Noord                                        18   \n",
       "     Binnenstad                                             10   \n",
       "     Bos en Lommer                                          18   \n",
       "...                                                        ...   \n",
       "2020 Ouder-Amstel                                         2321   \n",
       "     West                                                18430   \n",
       "     Westpoort                                              10   \n",
       "     Zuid                                                18220   \n",
       "     Zuidoost                                            14425   \n",
       "\n",
       "                      Bevolking|Leeftijdsgroepen|15 tot 25 jaar  \\\n",
       "Jaar Regio's                                                      \n",
       "2010 Amstelveen                                            9330   \n",
       "     Amsterdam Oud-Z                                         11   \n",
       "     Amsterdam-Noord                                         13   \n",
       "     Binnenstad                                              12   \n",
       "     Bos en Lommer                                           15   \n",
       "...                                                         ...   \n",
       "2020 Ouder-Amstel                                          1700   \n",
       "     West                                                 15330   \n",
       "     Westpoort                                               20   \n",
       "     Zuid                                                 15060   \n",
       "     Zuidoost                                             13940   \n",
       "\n",
       "                      Bevolking|Leeftijdsgroepen|25 tot 45 jaar  \\\n",
       "Jaar Regio's                                                      \n",
       "2010 Amstelveen                                           20909   \n",
       "     Amsterdam Oud-Z                                         41   \n",
       "     Amsterdam-Noord                                         28   \n",
       "     Binnenstad                                              38   \n",
       "     Bos en Lommer                                           42   \n",
       "...                                                         ...   \n",
       "2020 Ouder-Amstel                                          3015   \n",
       "     West                                                 65470   \n",
       "     Westpoort                                               40   \n",
       "     Zuid                                                 57605   \n",
       "     Zuidoost                                             26400   \n",
       "\n",
       "                      Bevolking|Leeftijdsgroepen|45 tot 65 jaar  \\\n",
       "Jaar Regio's                                                      \n",
       "2010 Amstelveen                                           22067   \n",
       "     Amsterdam Oud-Z                                         25   \n",
       "     Amsterdam-Noord                                         26   \n",
       "     Binnenstad                                              30   \n",
       "     Bos en Lommer                                           18   \n",
       "...                                                         ...   \n",
       "2020 Ouder-Amstel                                          4081   \n",
       "     West                                                 33850   \n",
       "     Westpoort                                               25   \n",
       "     Zuid                                                 33250   \n",
       "     Zuidoost                                             23650   \n",
       "\n",
       "                      Bevolking|Leeftijdsgroepen|65 jaar of ouder  \\\n",
       "Jaar Regio's                                                        \n",
       "2010 Amstelveen                                             14991   \n",
       "     Amsterdam Oud-Z                                           11   \n",
       "     Amsterdam-Noord                                           16   \n",
       "     Binnenstad                                                10   \n",
       "     Bos en Lommer                                              7   \n",
       "...                                                           ...   \n",
       "2020 Ouder-Amstel                                            2909   \n",
       "     West                                                   14505   \n",
       "     Westpoort                                                 15   \n",
       "     Zuid                                                   22335   \n",
       "     Zuidoost                                               11435   \n",
       "\n",
       "                      Bevolking|Particuliere huishoudens|Huishoudens totaal  \\\n",
       "Jaar Regio's                                                                  \n",
       "2010 Amstelveen                                                   39119       \n",
       "     Amsterdam Oud-Z                                              52275       \n",
       "     Amsterdam-Noord                                              41815       \n",
       "     Binnenstad                                                   54135       \n",
       "     Bos en Lommer                                                16320       \n",
       "...                                                                 ...       \n",
       "2020 Ouder-Amstel                                                  6314       \n",
       "     West                                                         84160       \n",
       "     Westpoort                                                       70       \n",
       "     Zuid                                                         85430       \n",
       "     Zuidoost                                                     47995       \n",
       "\n",
       "                      Bevolking|Particuliere huishoudens|Eenpersoonshuishoudens  \\\n",
       "Jaar Regio's                                                                      \n",
       "2010 Amstelveen                                                   17154           \n",
       "     Amsterdam Oud-Z                                                 61           \n",
       "     Amsterdam-Noord                                                 45           \n",
       "     Binnenstad                                                      66           \n",
       "     Bos en Lommer                                                   54           \n",
       "...                                                                 ...           \n",
       "2020 Ouder-Amstel                                                  2316           \n",
       "     West                                                         47820           \n",
       "     Westpoort                                                       50           \n",
       "     Zuid                                                         48280           \n",
       "     Zuidoost                                                     26665           \n",
       "\n",
       "                      Bevolking|Particuliere huishoudens|Huishoudens zonder kinderen  \\\n",
       "Jaar Regio's                                                                           \n",
       "2010 Amstelveen                                                    9939                \n",
       "     Amsterdam Oud-Z                                                 20                \n",
       "     Amsterdam-Noord                                                 22                \n",
       "     Binnenstad                                                      19                \n",
       "     Bos en Lommer                                                   20                \n",
       "...                                                                 ...                \n",
       "2020 Ouder-Amstel                                                  1717                \n",
       "     West                                                         19555                \n",
       "     Westpoort                                                        5                \n",
       "     Zuid                                                         19985                \n",
       "     Zuidoost                                                      7295                \n",
       "\n",
       "                      Bevolking|Particuliere huishoudens|Huishoudens met kinderen  \n",
       "Jaar Regio's                                                                       \n",
       "2010 Amstelveen                                                   12026            \n",
       "     Amsterdam Oud-Z                                                 19            \n",
       "     Amsterdam-Noord                                                 33            \n",
       "     Binnenstad                                                      14            \n",
       "     Bos en Lommer                                                   26            \n",
       "...                                                                 ...            \n",
       "2020 Ouder-Amstel                                                  2281            \n",
       "     West                                                         16710            \n",
       "     Westpoort                                                       10            \n",
       "     Zuid                                                         17235            \n",
       "     Zuidoost                                                     14095            \n",
       "\n",
       "[150 rows x 10 columns]"
      ],
      "text/html": "<div>\n<style scoped>\n    .dataframe tbody tr th:only-of-type {\n        vertical-align: middle;\n    }\n\n    .dataframe tbody tr th {\n        vertical-align: top;\n    }\n\n    .dataframe thead th {\n        text-align: right;\n    }\n</style>\n<table border=\"1\" class=\"dataframe\">\n  <thead>\n    <tr style=\"text-align: right;\">\n      <th></th>\n      <th></th>\n      <th>Bevolking|Aantal inwoners</th>\n      <th>Bevolking|Leeftijdsgroepen|0 tot 15 jaar</th>\n      <th>Bevolking|Leeftijdsgroepen|15 tot 25 jaar</th>\n      <th>Bevolking|Leeftijdsgroepen|25 tot 45 jaar</th>\n      <th>Bevolking|Leeftijdsgroepen|45 tot 65 jaar</th>\n      <th>Bevolking|Leeftijdsgroepen|65 jaar of ouder</th>\n      <th>Bevolking|Particuliere huishoudens|Huishoudens totaal</th>\n      <th>Bevolking|Particuliere huishoudens|Eenpersoonshuishoudens</th>\n      <th>Bevolking|Particuliere huishoudens|Huishoudens zonder kinderen</th>\n      <th>Bevolking|Particuliere huishoudens|Huishoudens met kinderen</th>\n    </tr>\n    <tr>\n      <th>Jaar</th>\n      <th>Regio's</th>\n      <th></th>\n      <th></th>\n      <th></th>\n      <th></th>\n      <th></th>\n      <th></th>\n      <th></th>\n      <th></th>\n      <th></th>\n      <th></th>\n    </tr>\n  </thead>\n  <tbody>\n    <tr>\n      <th rowspan=\"5\" valign=\"top\">2010</th>\n      <th>Amstelveen</th>\n      <td>80695</td>\n      <td>13398</td>\n      <td>9330</td>\n      <td>20909</td>\n      <td>22067</td>\n      <td>14991</td>\n      <td>39119</td>\n      <td>17154</td>\n      <td>9939</td>\n      <td>12026</td>\n    </tr>\n    <tr>\n      <th>Amsterdam Oud-Z</th>\n      <td>85875</td>\n      <td>13</td>\n      <td>11</td>\n      <td>41</td>\n      <td>25</td>\n      <td>11</td>\n      <td>52275</td>\n      <td>61</td>\n      <td>20</td>\n      <td>19</td>\n    </tr>\n    <tr>\n      <th>Amsterdam-Noord</th>\n      <td>86265</td>\n      <td>18</td>\n      <td>13</td>\n      <td>28</td>\n      <td>26</td>\n      <td>16</td>\n      <td>41815</td>\n      <td>45</td>\n      <td>22</td>\n      <td>33</td>\n    </tr>\n    <tr>\n      <th>Binnenstad</th>\n      <td>82660</td>\n      <td>10</td>\n      <td>12</td>\n      <td>38</td>\n      <td>30</td>\n      <td>10</td>\n      <td>54135</td>\n      <td>66</td>\n      <td>19</td>\n      <td>14</td>\n    </tr>\n    <tr>\n      <th>Bos en Lommer</th>\n      <td>30860</td>\n      <td>18</td>\n      <td>15</td>\n      <td>42</td>\n      <td>18</td>\n      <td>7</td>\n      <td>16320</td>\n      <td>54</td>\n      <td>20</td>\n      <td>26</td>\n    </tr>\n    <tr>\n      <th>...</th>\n      <th>...</th>\n      <td>...</td>\n      <td>...</td>\n      <td>...</td>\n      <td>...</td>\n      <td>...</td>\n      <td>...</td>\n      <td>...</td>\n      <td>...</td>\n      <td>...</td>\n      <td>...</td>\n    </tr>\n    <tr>\n      <th rowspan=\"5\" valign=\"top\">2020</th>\n      <th>Ouder-Amstel</th>\n      <td>14026</td>\n      <td>2321</td>\n      <td>1700</td>\n      <td>3015</td>\n      <td>4081</td>\n      <td>2909</td>\n      <td>6314</td>\n      <td>2316</td>\n      <td>1717</td>\n      <td>2281</td>\n    </tr>\n    <tr>\n      <th>West</th>\n      <td>147350</td>\n      <td>18430</td>\n      <td>15330</td>\n      <td>65470</td>\n      <td>33850</td>\n      <td>14505</td>\n      <td>84160</td>\n      <td>47820</td>\n      <td>19555</td>\n      <td>16710</td>\n    </tr>\n    <tr>\n      <th>Westpoort</th>\n      <td>105</td>\n      <td>10</td>\n      <td>20</td>\n      <td>40</td>\n      <td>25</td>\n      <td>15</td>\n      <td>70</td>\n      <td>50</td>\n      <td>5</td>\n      <td>10</td>\n    </tr>\n    <tr>\n      <th>Zuid</th>\n      <td>146290</td>\n      <td>18220</td>\n      <td>15060</td>\n      <td>57605</td>\n      <td>33250</td>\n      <td>22335</td>\n      <td>85430</td>\n      <td>48280</td>\n      <td>19985</td>\n      <td>17235</td>\n    </tr>\n    <tr>\n      <th>Zuidoost</th>\n      <td>89810</td>\n      <td>14425</td>\n      <td>13940</td>\n      <td>26400</td>\n      <td>23650</td>\n      <td>11435</td>\n      <td>47995</td>\n      <td>26665</td>\n      <td>7295</td>\n      <td>14095</td>\n    </tr>\n  </tbody>\n</table>\n<p>150 rows × 10 columns</p>\n</div>"
     },
     "metadata": {},
     "execution_count": 39
    }
   ],
   "source": [
    "p = os.path.join(os.path.dirname(os.getcwd()), 'data/input_features.csv')\n",
    "df = pd.read_csv(p, sep=';', na_filter= False).replace('', 0)#.fillna(0)\n",
    "df = df.groupby(['Jaar', '''Regio's''']).sum()\n",
    "df"
   ]
  },
  {
   "cell_type": "code",
   "execution_count": 42,
   "metadata": {},
   "outputs": [],
   "source": [
    "df.to_csv('../data/cleaned_input_features.csv')"
   ]
  },
  {
   "cell_type": "code",
   "execution_count": null,
   "metadata": {},
   "outputs": [],
   "source": []
  }
 ]
}