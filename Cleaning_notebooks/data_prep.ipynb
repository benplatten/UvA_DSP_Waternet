{
 "metadata": {
  "language_info": {
   "codemirror_mode": {
    "name": "ipython",
    "version": 3
   },
   "file_extension": ".py",
   "mimetype": "text/x-python",
   "name": "python",
   "nbconvert_exporter": "python",
   "pygments_lexer": "ipython3",
   "version": "3.8.1-final"
  },
  "orig_nbformat": 2,
  "kernelspec": {
   "name": "python3",
   "display_name": "Python 3",
   "language": "python"
  }
 },
 "nbformat": 4,
 "nbformat_minor": 2,
 "cells": [
  {
   "cell_type": "code",
   "execution_count": 1,
   "metadata": {},
   "outputs": [],
   "source": [
    "import pandas as pd\n",
    "import numpy as np\n",
    "import seaborn as sns\n",
    "import matplotlib.pyplot as plt\n",
    "from datetime import datetime, timezone, timedelta\n",
    "import time\n",
    "from itertools import chain, product"
   ]
  },
  {
   "cell_type": "code",
   "execution_count": 2,
   "metadata": {},
   "outputs": [],
   "source": [
    "# Default settings\n",
    "pd.options.display.max_columns = None\n",
    "%matplotlib inline\n",
    "sns.set(style=\"darkgrid\")\n",
    "random_seed = 42"
   ]
  },
  {
   "cell_type": "code",
   "execution_count": 17,
   "metadata": {},
   "outputs": [
    {
     "output_type": "execute_result",
     "data": {
      "text/plain": [
       "([2010, 2011, 2012, 2013, 2014, 2015, 2016, 2017, 2018, 2019, 2020],\n",
       " ['HHB', 'HHO', 'GZB', 'KZB', 'KZO'],\n",
       " ['A Centrum',\n",
       "  'B Westpoort',\n",
       "  'E West',\n",
       "  'F Nieuw-West',\n",
       "  'K Zuid',\n",
       "  'M Oost',\n",
       "  'T Zuidoost',\n",
       "  'Amstelveen',\n",
       "  'Diemen',\n",
       "  'Heemstede',\n",
       "  'Muiden',\n",
       "  'Ouder-Amstel',\n",
       "  'Schiphol'])"
      ]
     },
     "metadata": {},
     "execution_count": 17
    }
   ],
   "source": [
    "years = np.arange(2010, 2021).tolist()\n",
    "object_types = ['HHB', 'HHO', 'GZB', 'KZB', 'KZO']\n",
    "regions = ['A Centrum', 'B Westpoort', 'E West', 'F Nieuw-West', 'K Zuid', 'M Oost', 'T Zuidoost',\\\n",
    "    'Amstelveen', 'Diemen', 'Heemstede', 'Muiden', 'Ouder-Amstel', 'Schiphol']\n",
    "years, object_types, regions"
   ]
  },
  {
   "cell_type": "code",
   "execution_count": 21,
   "metadata": {},
   "outputs": [
    {
     "output_type": "execute_result",
     "data": {
      "text/plain": [
       "MultiIndex([(2010, 'HHB',    'A Centrum'),\n",
       "            (2010, 'HHB',  'B Westpoort'),\n",
       "            (2010, 'HHB',       'E West'),\n",
       "            (2010, 'HHB', 'F Nieuw-West'),\n",
       "            (2010, 'HHB',       'K Zuid'),\n",
       "            (2010, 'HHB',       'M Oost'),\n",
       "            (2010, 'HHB',   'T Zuidoost'),\n",
       "            (2010, 'HHB',   'Amstelveen'),\n",
       "            (2010, 'HHB',       'Diemen'),\n",
       "            (2010, 'HHB',    'Heemstede'),\n",
       "            ...\n",
       "            (2020, 'KZO', 'F Nieuw-West'),\n",
       "            (2020, 'KZO',       'K Zuid'),\n",
       "            (2020, 'KZO',       'M Oost'),\n",
       "            (2020, 'KZO',   'T Zuidoost'),\n",
       "            (2020, 'KZO',   'Amstelveen'),\n",
       "            (2020, 'KZO',       'Diemen'),\n",
       "            (2020, 'KZO',    'Heemstede'),\n",
       "            (2020, 'KZO',       'Muiden'),\n",
       "            (2020, 'KZO', 'Ouder-Amstel'),\n",
       "            (2020, 'KZO',     'Schiphol')],\n",
       "           names=['Year', 'Object_type', 'Region'], length=715)"
      ]
     },
     "metadata": {},
     "execution_count": 21
    }
   ],
   "source": [
    "idx = pd.MultiIndex.from_product([years, object_types, regions], names=['Year', 'Object_type', 'Region'])\n",
    "idx"
   ]
  },
  {
   "cell_type": "code",
   "execution_count": 22,
   "metadata": {},
   "outputs": [
    {
     "output_type": "execute_result",
     "data": {
      "text/plain": [
       "     Year Object_type        Region\n",
       "0    2010         HHB     A Centrum\n",
       "1    2010         HHB   B Westpoort\n",
       "2    2010         HHB        E West\n",
       "3    2010         HHB  F Nieuw-West\n",
       "4    2010         HHB        K Zuid\n",
       "..    ...         ...           ...\n",
       "710  2020         KZO        Diemen\n",
       "711  2020         KZO     Heemstede\n",
       "712  2020         KZO        Muiden\n",
       "713  2020         KZO  Ouder-Amstel\n",
       "714  2020         KZO      Schiphol\n",
       "\n",
       "[715 rows x 3 columns]"
      ],
      "text/html": "<div>\n<style scoped>\n    .dataframe tbody tr th:only-of-type {\n        vertical-align: middle;\n    }\n\n    .dataframe tbody tr th {\n        vertical-align: top;\n    }\n\n    .dataframe thead th {\n        text-align: right;\n    }\n</style>\n<table border=\"1\" class=\"dataframe\">\n  <thead>\n    <tr style=\"text-align: right;\">\n      <th></th>\n      <th>Year</th>\n      <th>Object_type</th>\n      <th>Region</th>\n    </tr>\n  </thead>\n  <tbody>\n    <tr>\n      <th>0</th>\n      <td>2010</td>\n      <td>HHB</td>\n      <td>A Centrum</td>\n    </tr>\n    <tr>\n      <th>1</th>\n      <td>2010</td>\n      <td>HHB</td>\n      <td>B Westpoort</td>\n    </tr>\n    <tr>\n      <th>2</th>\n      <td>2010</td>\n      <td>HHB</td>\n      <td>E West</td>\n    </tr>\n    <tr>\n      <th>3</th>\n      <td>2010</td>\n      <td>HHB</td>\n      <td>F Nieuw-West</td>\n    </tr>\n    <tr>\n      <th>4</th>\n      <td>2010</td>\n      <td>HHB</td>\n      <td>K Zuid</td>\n    </tr>\n    <tr>\n      <th>...</th>\n      <td>...</td>\n      <td>...</td>\n      <td>...</td>\n    </tr>\n    <tr>\n      <th>710</th>\n      <td>2020</td>\n      <td>KZO</td>\n      <td>Diemen</td>\n    </tr>\n    <tr>\n      <th>711</th>\n      <td>2020</td>\n      <td>KZO</td>\n      <td>Heemstede</td>\n    </tr>\n    <tr>\n      <th>712</th>\n      <td>2020</td>\n      <td>KZO</td>\n      <td>Muiden</td>\n    </tr>\n    <tr>\n      <th>713</th>\n      <td>2020</td>\n      <td>KZO</td>\n      <td>Ouder-Amstel</td>\n    </tr>\n    <tr>\n      <th>714</th>\n      <td>2020</td>\n      <td>KZO</td>\n      <td>Schiphol</td>\n    </tr>\n  </tbody>\n</table>\n<p>715 rows × 3 columns</p>\n</div>"
     },
     "metadata": {},
     "execution_count": 22
    }
   ],
   "source": [
    "df = pd.DataFrame(index=idx).reset_index()\n",
    "df"
   ]
  },
  {
   "cell_type": "code",
   "execution_count": 26,
   "metadata": {},
   "outputs": [],
   "source": [
    "df.to_csv('../data/input_features.csv')"
   ]
  },
  {
   "cell_type": "code",
   "execution_count": null,
   "metadata": {},
   "outputs": [],
   "source": []
  }
 ]
}