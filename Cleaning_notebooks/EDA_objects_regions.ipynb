{
 "metadata": {
  "language_info": {
   "codemirror_mode": {
    "name": "ipython",
    "version": 3
   },
   "file_extension": ".py",
   "mimetype": "text/x-python",
   "name": "python",
   "nbconvert_exporter": "python",
   "pygments_lexer": "ipython3",
   "version": "3.8.1-final"
  },
  "orig_nbformat": 2,
  "kernelspec": {
   "name": "python3",
   "display_name": "Python 3",
   "language": "python"
  }
 },
 "nbformat": 4,
 "nbformat_minor": 2,
 "cells": [
  {
   "cell_type": "code",
   "execution_count": 3,
   "metadata": {},
   "outputs": [],
   "source": [
    "import pandas as pd\n",
    "import numpy as np\n",
    "import seaborn as sns\n",
    "import matplotlib.pyplot as plt\n",
    "from datetime import datetime, timezone, timedelta\n",
    "import time\n",
    "from itertools import chain, product"
   ]
  },
  {
   "cell_type": "code",
   "execution_count": 4,
   "metadata": {},
   "outputs": [],
   "source": [
    "# Default settings\n",
    "pd.options.display.max_columns = None\n",
    "%matplotlib inline\n",
    "sns.set(style=\"darkgrid\")\n",
    "random_seed = 42"
   ]
  },
  {
   "cell_type": "code",
   "execution_count": 5,
   "metadata": {},
   "outputs": [
    {
     "output_type": "execute_result",
     "data": {
      "text/plain": [
       "                                  VERBRUIK_ID  \\\n",
       "0  0x7E405BC6FDD0BB06E1F7711B39D7C3CB684FAA20   \n",
       "1  0xD763B3D7286E78B4102C06DF1FE478C899B38743   \n",
       "2  0xD72C616CCDAAA45E049AF4AB3B5F92DD853B394A   \n",
       "3  0x9B04DD93592300582B286C693DE79E64AA474DF5   \n",
       "4  0x04F71377870507FA1CFC31EC9D372D241AF1CF80   \n",
       "\n",
       "                           VERBRUIK_OBJECT_ID VERBRUIK_STARTDAT  \\\n",
       "0  0xB3CC642C47DA2964C780FC5590DEAB3FAA791F9D        2013-03-08   \n",
       "1  0xB3CC642C47DA2964C780FC5590DEAB3FAA791F9D        2013-10-07   \n",
       "2  0xB3CC642C47DA2964C780FC5590DEAB3FAA791F9D        2014-10-06   \n",
       "3  0xB3CC642C47DA2964C780FC5590DEAB3FAA791F9D        2014-12-05   \n",
       "4  0xB3CC642C47DA2964C780FC5590DEAB3FAA791F9D        2015-11-06   \n",
       "\n",
       "  VERBRUIK_EINDDATUM VERBRUIK_GESCHAT_JN  VERBRUIK  POSTCODE       STAD  \\\n",
       "0         2013-10-07                   N      28.0      1013  AMSTERDAM   \n",
       "1         2014-10-06                   J      48.0      1013  AMSTERDAM   \n",
       "2         2014-12-05                   J       8.0      1013  AMSTERDAM   \n",
       "3         2015-11-06                   N      37.0      1013  AMSTERDAM   \n",
       "4         2016-10-13                   N      52.0      1013  AMSTERDAM   \n",
       "\n",
       "  OBJECT_TYPE_NAME  \n",
       "0              HHB  \n",
       "1              HHB  \n",
       "2              HHB  \n",
       "3              HHB  \n",
       "4              HHB  "
      ],
      "text/html": "<div>\n<style scoped>\n    .dataframe tbody tr th:only-of-type {\n        vertical-align: middle;\n    }\n\n    .dataframe tbody tr th {\n        vertical-align: top;\n    }\n\n    .dataframe thead th {\n        text-align: right;\n    }\n</style>\n<table border=\"1\" class=\"dataframe\">\n  <thead>\n    <tr style=\"text-align: right;\">\n      <th></th>\n      <th>VERBRUIK_ID</th>\n      <th>VERBRUIK_OBJECT_ID</th>\n      <th>VERBRUIK_STARTDAT</th>\n      <th>VERBRUIK_EINDDATUM</th>\n      <th>VERBRUIK_GESCHAT_JN</th>\n      <th>VERBRUIK</th>\n      <th>POSTCODE</th>\n      <th>STAD</th>\n      <th>OBJECT_TYPE_NAME</th>\n    </tr>\n  </thead>\n  <tbody>\n    <tr>\n      <th>0</th>\n      <td>0x7E405BC6FDD0BB06E1F7711B39D7C3CB684FAA20</td>\n      <td>0xB3CC642C47DA2964C780FC5590DEAB3FAA791F9D</td>\n      <td>2013-03-08</td>\n      <td>2013-10-07</td>\n      <td>N</td>\n      <td>28.0</td>\n      <td>1013</td>\n      <td>AMSTERDAM</td>\n      <td>HHB</td>\n    </tr>\n    <tr>\n      <th>1</th>\n      <td>0xD763B3D7286E78B4102C06DF1FE478C899B38743</td>\n      <td>0xB3CC642C47DA2964C780FC5590DEAB3FAA791F9D</td>\n      <td>2013-10-07</td>\n      <td>2014-10-06</td>\n      <td>J</td>\n      <td>48.0</td>\n      <td>1013</td>\n      <td>AMSTERDAM</td>\n      <td>HHB</td>\n    </tr>\n    <tr>\n      <th>2</th>\n      <td>0xD72C616CCDAAA45E049AF4AB3B5F92DD853B394A</td>\n      <td>0xB3CC642C47DA2964C780FC5590DEAB3FAA791F9D</td>\n      <td>2014-10-06</td>\n      <td>2014-12-05</td>\n      <td>J</td>\n      <td>8.0</td>\n      <td>1013</td>\n      <td>AMSTERDAM</td>\n      <td>HHB</td>\n    </tr>\n    <tr>\n      <th>3</th>\n      <td>0x9B04DD93592300582B286C693DE79E64AA474DF5</td>\n      <td>0xB3CC642C47DA2964C780FC5590DEAB3FAA791F9D</td>\n      <td>2014-12-05</td>\n      <td>2015-11-06</td>\n      <td>N</td>\n      <td>37.0</td>\n      <td>1013</td>\n      <td>AMSTERDAM</td>\n      <td>HHB</td>\n    </tr>\n    <tr>\n      <th>4</th>\n      <td>0x04F71377870507FA1CFC31EC9D372D241AF1CF80</td>\n      <td>0xB3CC642C47DA2964C780FC5590DEAB3FAA791F9D</td>\n      <td>2015-11-06</td>\n      <td>2016-10-13</td>\n      <td>N</td>\n      <td>52.0</td>\n      <td>1013</td>\n      <td>AMSTERDAM</td>\n      <td>HHB</td>\n    </tr>\n  </tbody>\n</table>\n</div>"
     },
     "metadata": {},
     "execution_count": 5
    }
   ],
   "source": [
    "df = pd.read_csv('data/Export_Verbruik_2010-2019_anon.csv', index_col=0)\n",
    "df.head()"
   ]
  },
  {
   "cell_type": "code",
   "execution_count": 6,
   "metadata": {},
   "outputs": [
    {
     "output_type": "stream",
     "name": "stdout",
     "text": [
      "<class 'pandas.core.frame.DataFrame'>\nInt64Index: 4203393 entries, 0 to 4203392\nData columns (total 9 columns):\n #   Column               Non-Null Count    Dtype  \n---  ------               --------------    -----  \n 0   VERBRUIK_ID          4203393 non-null  object \n 1   VERBRUIK_OBJECT_ID   4203393 non-null  object \n 2   VERBRUIK_STARTDAT    4203358 non-null  object \n 3   VERBRUIK_EINDDATUM   4203393 non-null  object \n 4   VERBRUIK_GESCHAT_JN  4203393 non-null  object \n 5   VERBRUIK             4203393 non-null  float64\n 6   POSTCODE             4203393 non-null  int64  \n 7   STAD                 4192751 non-null  object \n 8   OBJECT_TYPE_NAME     4201632 non-null  object \ndtypes: float64(1), int64(1), object(7)\nmemory usage: 320.7+ MB\n"
     ]
    }
   ],
   "source": [
    "df.info(null_counts=True)"
   ]
  },
  {
   "cell_type": "code",
   "execution_count": 7,
   "metadata": {},
   "outputs": [
    {
     "output_type": "execute_result",
     "data": {
      "text/plain": [
       "           VERBRUIK      POSTCODE\n",
       "count  4.203393e+06  4.203393e+06\n",
       "mean   1.698459e+02  1.111630e+03\n",
       "std    6.532013e+03  2.057869e+02\n",
       "min   -4.729757e+06  0.000000e+00\n",
       "25%    3.000000e+01  1.051000e+03\n",
       "50%    6.500000e+01  1.071000e+03\n",
       "75%    1.180000e+02  1.103000e+03\n",
       "max    1.497390e+06  2.106000e+03"
      ],
      "text/html": "<div>\n<style scoped>\n    .dataframe tbody tr th:only-of-type {\n        vertical-align: middle;\n    }\n\n    .dataframe tbody tr th {\n        vertical-align: top;\n    }\n\n    .dataframe thead th {\n        text-align: right;\n    }\n</style>\n<table border=\"1\" class=\"dataframe\">\n  <thead>\n    <tr style=\"text-align: right;\">\n      <th></th>\n      <th>VERBRUIK</th>\n      <th>POSTCODE</th>\n    </tr>\n  </thead>\n  <tbody>\n    <tr>\n      <th>count</th>\n      <td>4.203393e+06</td>\n      <td>4.203393e+06</td>\n    </tr>\n    <tr>\n      <th>mean</th>\n      <td>1.698459e+02</td>\n      <td>1.111630e+03</td>\n    </tr>\n    <tr>\n      <th>std</th>\n      <td>6.532013e+03</td>\n      <td>2.057869e+02</td>\n    </tr>\n    <tr>\n      <th>min</th>\n      <td>-4.729757e+06</td>\n      <td>0.000000e+00</td>\n    </tr>\n    <tr>\n      <th>25%</th>\n      <td>3.000000e+01</td>\n      <td>1.051000e+03</td>\n    </tr>\n    <tr>\n      <th>50%</th>\n      <td>6.500000e+01</td>\n      <td>1.071000e+03</td>\n    </tr>\n    <tr>\n      <th>75%</th>\n      <td>1.180000e+02</td>\n      <td>1.103000e+03</td>\n    </tr>\n    <tr>\n      <th>max</th>\n      <td>1.497390e+06</td>\n      <td>2.106000e+03</td>\n    </tr>\n  </tbody>\n</table>\n</div>"
     },
     "metadata": {},
     "execution_count": 7
    }
   ],
   "source": [
    "df.describe()"
   ]
  },
  {
   "cell_type": "code",
   "execution_count": 8,
   "metadata": {},
   "outputs": [
    {
     "output_type": "execute_result",
     "data": {
      "text/plain": [
       "1181    118523\n",
       "1102    112007\n",
       "1013    111993\n",
       "1019    107198\n",
       "1069    107114\n",
       "         ...  \n",
       "1027      1987\n",
       "1041      1774\n",
       "1114      1720\n",
       "1391       828\n",
       "1037       664\n",
       "Name: POSTCODE, Length: 104, dtype: int64"
      ]
     },
     "metadata": {},
     "execution_count": 8
    }
   ],
   "source": [
    "df['POSTCODE'].value_counts(dropna=False)"
   ]
  },
  {
   "cell_type": "code",
   "execution_count": 9,
   "metadata": {},
   "outputs": [
    {
     "output_type": "execute_result",
     "data": {
      "text/plain": [
       "0    14513\n",
       "Name: POSTCODE, dtype: int64"
      ]
     },
     "metadata": {},
     "execution_count": 9
    }
   ],
   "source": [
    "# checking anonimized postal codes\n",
    "df.loc[df['POSTCODE'] == 0]['POSTCODE'].value_counts()"
   ]
  },
  {
   "cell_type": "code",
   "execution_count": 10,
   "metadata": {},
   "outputs": [
    {
     "output_type": "stream",
     "name": "stdout",
     "text": [
      "<class 'pandas.core.frame.DataFrame'>\nInt64Index: 4203358 entries, 0 to 4203392\nData columns (total 9 columns):\n #   Column               Non-Null Count    Dtype  \n---  ------               --------------    -----  \n 0   VERBRUIK_ID          4203358 non-null  object \n 1   VERBRUIK_OBJECT_ID   4203358 non-null  object \n 2   VERBRUIK_STARTDAT    4203358 non-null  object \n 3   VERBRUIK_EINDDATUM   4203358 non-null  object \n 4   VERBRUIK_GESCHAT_JN  4203358 non-null  object \n 5   VERBRUIK             4203358 non-null  float64\n 6   POSTCODE             4203358 non-null  int64  \n 7   STAD                 4192718 non-null  object \n 8   OBJECT_TYPE_NAME     4201597 non-null  object \ndtypes: float64(1), int64(1), object(7)\nmemory usage: 320.7+ MB\n"
     ]
    }
   ],
   "source": [
    "# we find some missing values, it seem to be only 35 rows so lets remove there\n",
    "df = df.loc[df['VERBRUIK_STARTDAT'].notna()]\n",
    "df.info(null_counts=True)"
   ]
  },
  {
   "cell_type": "code",
   "execution_count": 11,
   "metadata": {},
   "outputs": [
    {
     "output_type": "execute_result",
     "data": {
      "text/plain": [
       "HHB                         3890819\n",
       "KZB                          279202\n",
       "GZB                           28818\n",
       "IND                            2155\n",
       "ENG                             396\n",
       "OWT                             101\n",
       "SIER                             77\n",
       "Geen (nvt voor Waternet)         15\n",
       "Overig                           12\n",
       "BRA                               2\n",
       "Name: OBJECT_TYPE_NAME, dtype: int64"
      ]
     },
     "metadata": {},
     "execution_count": 11
    }
   ],
   "source": [
    "# checking object types\n",
    "df['OBJECT_TYPE_NAME'].value_counts()"
   ]
  },
  {
   "cell_type": "code",
   "execution_count": 12,
   "metadata": {},
   "outputs": [
    {
     "output_type": "execute_result",
     "data": {
      "text/plain": [
       "HHB    3890819\n",
       "KZB     279202\n",
       "GZB      28818\n",
       "Name: OBJECT_TYPE_NAME, dtype: int64"
      ]
     },
     "metadata": {},
     "execution_count": 12
    }
   ],
   "source": [
    "# removing object types that are not in scope\n",
    "scope = ['HHO', 'HHB', 'GZB', 'KZB', 'KZO']\n",
    "df = df.loc[df['OBJECT_TYPE_NAME'].isin(scope)]\n",
    "df['OBJECT_TYPE_NAME'].value_counts()"
   ]
  },
  {
   "cell_type": "code",
   "execution_count": 13,
   "metadata": {},
   "outputs": [
    {
     "output_type": "stream",
     "name": "stdout",
     "text": [
      "(191357, 9)\n"
     ]
    }
   ],
   "source": [
    "# we also find some rows with no water usage, so removing those too\n",
    "print(df.loc[df['VERBRUIK'] == 0].shape)\n",
    "df = df.loc[df['VERBRUIK'] != 0]"
   ]
  },
  {
   "cell_type": "code",
   "execution_count": 14,
   "metadata": {},
   "outputs": [
    {
     "output_type": "stream",
     "name": "stdout",
     "text": [
      "<class 'pandas.core.frame.DataFrame'>\nInt64Index: 4007482 entries, 0 to 4203392\nData columns (total 9 columns):\n #   Column               Non-Null Count    Dtype         \n---  ------               --------------    -----         \n 0   VERBRUIK_ID          4007482 non-null  object        \n 1   VERBRUIK_OBJECT_ID   4007482 non-null  object        \n 2   VERBRUIK_STARTDAT    4007482 non-null  datetime64[ns]\n 3   VERBRUIK_EINDDATUM   4007482 non-null  datetime64[ns]\n 4   VERBRUIK_GESCHAT_JN  4007482 non-null  object        \n 5   VERBRUIK             4007482 non-null  float64       \n 6   POSTCODE             4007482 non-null  int64         \n 7   STAD                 3998834 non-null  object        \n 8   OBJECT_TYPE_NAME     4007482 non-null  object        \ndtypes: datetime64[ns](2), float64(1), int64(1), object(5)\nmemory usage: 305.7+ MB\n"
     ]
    }
   ],
   "source": [
    "# coverting date-like columns to datetime\n",
    "df[['VERBRUIK_STARTDAT', 'VERBRUIK_EINDDATUM']] = df[['VERBRUIK_STARTDAT', 'VERBRUIK_EINDDATUM']].apply(pd.to_datetime)\n",
    "df.info(null_counts=True)"
   ]
  },
  {
   "cell_type": "code",
   "execution_count": 15,
   "metadata": {},
   "outputs": [
    {
     "output_type": "execute_result",
     "data": {
      "text/plain": [
       "2018    440062\n",
       "2016    422932\n",
       "2010    419402\n",
       "2015    414178\n",
       "2017    402392\n",
       "2014    397101\n",
       "2011    380609\n",
       "2013    380423\n",
       "2012    377917\n",
       "2009    303991\n",
       "2019     61080\n",
       "2008      5230\n",
       "2007      1265\n",
       "2006       418\n",
       "2005       267\n",
       "2004       114\n",
       "2003        73\n",
       "2002        25\n",
       "2000         2\n",
       "2001         1\n",
       "Name: VERBRUIK_STARTDAT, dtype: int64"
      ]
     },
     "metadata": {},
     "execution_count": 15
    }
   ],
   "source": [
    "df['VERBRUIK_STARTDAT'].dt.year.value_counts()"
   ]
  },
  {
   "cell_type": "code",
   "execution_count": 16,
   "metadata": {},
   "outputs": [
    {
     "output_type": "execute_result",
     "data": {
      "text/plain": [
       "0          213\n",
       "1          364\n",
       "2           60\n",
       "3          336\n",
       "4          342\n",
       "          ... \n",
       "4203385    339\n",
       "4203386    365\n",
       "4203387    365\n",
       "4203390    239\n",
       "4203392    273\n",
       "Name: DIFF, Length: 4007482, dtype: int64"
      ]
     },
     "metadata": {},
     "execution_count": 16
    }
   ],
   "source": [
    "# calculate period\n",
    "df['DIFF'] = (df['VERBRUIK_EINDDATUM'] - df['VERBRUIK_STARTDAT']).dt.days\n",
    "df['DIFF']"
   ]
  },
  {
   "cell_type": "code",
   "execution_count": 17,
   "metadata": {},
   "outputs": [
    {
     "output_type": "execute_result",
     "data": {
      "text/plain": [
       "                                  VERBRUIK_ID  \\\n",
       "0  0x7E405BC6FDD0BB06E1F7711B39D7C3CB684FAA20   \n",
       "1  0xD763B3D7286E78B4102C06DF1FE478C899B38743   \n",
       "2  0xD72C616CCDAAA45E049AF4AB3B5F92DD853B394A   \n",
       "3  0x9B04DD93592300582B286C693DE79E64AA474DF5   \n",
       "4  0x04F71377870507FA1CFC31EC9D372D241AF1CF80   \n",
       "\n",
       "                           VERBRUIK_OBJECT_ID VERBRUIK_STARTDAT  \\\n",
       "0  0xB3CC642C47DA2964C780FC5590DEAB3FAA791F9D        2013-03-08   \n",
       "1  0xB3CC642C47DA2964C780FC5590DEAB3FAA791F9D        2013-10-07   \n",
       "2  0xB3CC642C47DA2964C780FC5590DEAB3FAA791F9D        2014-10-06   \n",
       "3  0xB3CC642C47DA2964C780FC5590DEAB3FAA791F9D        2014-12-05   \n",
       "4  0xB3CC642C47DA2964C780FC5590DEAB3FAA791F9D        2015-11-06   \n",
       "\n",
       "  VERBRUIK_EINDDATUM VERBRUIK_GESCHAT_JN  VERBRUIK  POSTCODE       STAD  \\\n",
       "0         2013-10-07                   N      28.0      1013  AMSTERDAM   \n",
       "1         2014-10-06                   J      48.0      1013  AMSTERDAM   \n",
       "2         2014-12-05                   J       8.0      1013  AMSTERDAM   \n",
       "3         2015-11-06                   N      37.0      1013  AMSTERDAM   \n",
       "4         2016-10-13                   N      52.0      1013  AMSTERDAM   \n",
       "\n",
       "  OBJECT_TYPE_NAME  DIFF   AVG_DAY  \n",
       "0              HHB   213  0.131455  \n",
       "1              HHB   364  0.131868  \n",
       "2              HHB    60  0.133333  \n",
       "3              HHB   336  0.110119  \n",
       "4              HHB   342  0.152047  "
      ],
      "text/html": "<div>\n<style scoped>\n    .dataframe tbody tr th:only-of-type {\n        vertical-align: middle;\n    }\n\n    .dataframe tbody tr th {\n        vertical-align: top;\n    }\n\n    .dataframe thead th {\n        text-align: right;\n    }\n</style>\n<table border=\"1\" class=\"dataframe\">\n  <thead>\n    <tr style=\"text-align: right;\">\n      <th></th>\n      <th>VERBRUIK_ID</th>\n      <th>VERBRUIK_OBJECT_ID</th>\n      <th>VERBRUIK_STARTDAT</th>\n      <th>VERBRUIK_EINDDATUM</th>\n      <th>VERBRUIK_GESCHAT_JN</th>\n      <th>VERBRUIK</th>\n      <th>POSTCODE</th>\n      <th>STAD</th>\n      <th>OBJECT_TYPE_NAME</th>\n      <th>DIFF</th>\n      <th>AVG_DAY</th>\n    </tr>\n  </thead>\n  <tbody>\n    <tr>\n      <th>0</th>\n      <td>0x7E405BC6FDD0BB06E1F7711B39D7C3CB684FAA20</td>\n      <td>0xB3CC642C47DA2964C780FC5590DEAB3FAA791F9D</td>\n      <td>2013-03-08</td>\n      <td>2013-10-07</td>\n      <td>N</td>\n      <td>28.0</td>\n      <td>1013</td>\n      <td>AMSTERDAM</td>\n      <td>HHB</td>\n      <td>213</td>\n      <td>0.131455</td>\n    </tr>\n    <tr>\n      <th>1</th>\n      <td>0xD763B3D7286E78B4102C06DF1FE478C899B38743</td>\n      <td>0xB3CC642C47DA2964C780FC5590DEAB3FAA791F9D</td>\n      <td>2013-10-07</td>\n      <td>2014-10-06</td>\n      <td>J</td>\n      <td>48.0</td>\n      <td>1013</td>\n      <td>AMSTERDAM</td>\n      <td>HHB</td>\n      <td>364</td>\n      <td>0.131868</td>\n    </tr>\n    <tr>\n      <th>2</th>\n      <td>0xD72C616CCDAAA45E049AF4AB3B5F92DD853B394A</td>\n      <td>0xB3CC642C47DA2964C780FC5590DEAB3FAA791F9D</td>\n      <td>2014-10-06</td>\n      <td>2014-12-05</td>\n      <td>J</td>\n      <td>8.0</td>\n      <td>1013</td>\n      <td>AMSTERDAM</td>\n      <td>HHB</td>\n      <td>60</td>\n      <td>0.133333</td>\n    </tr>\n    <tr>\n      <th>3</th>\n      <td>0x9B04DD93592300582B286C693DE79E64AA474DF5</td>\n      <td>0xB3CC642C47DA2964C780FC5590DEAB3FAA791F9D</td>\n      <td>2014-12-05</td>\n      <td>2015-11-06</td>\n      <td>N</td>\n      <td>37.0</td>\n      <td>1013</td>\n      <td>AMSTERDAM</td>\n      <td>HHB</td>\n      <td>336</td>\n      <td>0.110119</td>\n    </tr>\n    <tr>\n      <th>4</th>\n      <td>0x04F71377870507FA1CFC31EC9D372D241AF1CF80</td>\n      <td>0xB3CC642C47DA2964C780FC5590DEAB3FAA791F9D</td>\n      <td>2015-11-06</td>\n      <td>2016-10-13</td>\n      <td>N</td>\n      <td>52.0</td>\n      <td>1013</td>\n      <td>AMSTERDAM</td>\n      <td>HHB</td>\n      <td>342</td>\n      <td>0.152047</td>\n    </tr>\n  </tbody>\n</table>\n</div>"
     },
     "metadata": {},
     "execution_count": 17
    }
   ],
   "source": [
    "df['AVG_DAY'] = df['VERBRUIK'] / df['DIFF']\n",
    "df.head()"
   ]
  },
  {
   "cell_type": "code",
   "execution_count": 18,
   "metadata": {},
   "outputs": [
    {
     "output_type": "execute_result",
     "data": {
      "text/plain": [
       "        OBJECT_TYPE_NAME  POSTCODE VERBRUIK_STARTDAT VERBRUIK_EINDDATUM  \\\n",
       "0                    GZB         0        2009-12-22         2010-01-27   \n",
       "1                    GZB         0        2009-12-23         2010-01-26   \n",
       "2                    GZB         0        2009-12-28         2010-01-26   \n",
       "3                    GZB         0        2010-01-26         2010-02-22   \n",
       "4                    GZB         0        2010-01-26         2010-02-23   \n",
       "...                  ...       ...               ...                ...   \n",
       "2425104              KZB      2106        2019-11-19         2019-12-01   \n",
       "2425105              KZB      2106        2019-11-22         2019-11-30   \n",
       "2425106              KZB      2106        2019-11-22         2019-12-01   \n",
       "2425107              KZB      2106        2019-11-30         2019-12-01   \n",
       "2425108              KZB      2106        2019-12-13         2019-12-18   \n",
       "\n",
       "             AVG_DAY  \n",
       "0         171.916667  \n",
       "1          51.882353  \n",
       "2        3182.448276  \n",
       "3          38.185185  \n",
       "4        3135.214286  \n",
       "...              ...  \n",
       "2425104     0.083333  \n",
       "2425105     1.000000  \n",
       "2425106     0.111111  \n",
       "2425107    -4.000000  \n",
       "2425108     0.600000  \n",
       "\n",
       "[2425109 rows x 5 columns]"
      ],
      "text/html": "<div>\n<style scoped>\n    .dataframe tbody tr th:only-of-type {\n        vertical-align: middle;\n    }\n\n    .dataframe tbody tr th {\n        vertical-align: top;\n    }\n\n    .dataframe thead th {\n        text-align: right;\n    }\n</style>\n<table border=\"1\" class=\"dataframe\">\n  <thead>\n    <tr style=\"text-align: right;\">\n      <th></th>\n      <th>OBJECT_TYPE_NAME</th>\n      <th>POSTCODE</th>\n      <th>VERBRUIK_STARTDAT</th>\n      <th>VERBRUIK_EINDDATUM</th>\n      <th>AVG_DAY</th>\n    </tr>\n  </thead>\n  <tbody>\n    <tr>\n      <th>0</th>\n      <td>GZB</td>\n      <td>0</td>\n      <td>2009-12-22</td>\n      <td>2010-01-27</td>\n      <td>171.916667</td>\n    </tr>\n    <tr>\n      <th>1</th>\n      <td>GZB</td>\n      <td>0</td>\n      <td>2009-12-23</td>\n      <td>2010-01-26</td>\n      <td>51.882353</td>\n    </tr>\n    <tr>\n      <th>2</th>\n      <td>GZB</td>\n      <td>0</td>\n      <td>2009-12-28</td>\n      <td>2010-01-26</td>\n      <td>3182.448276</td>\n    </tr>\n    <tr>\n      <th>3</th>\n      <td>GZB</td>\n      <td>0</td>\n      <td>2010-01-26</td>\n      <td>2010-02-22</td>\n      <td>38.185185</td>\n    </tr>\n    <tr>\n      <th>4</th>\n      <td>GZB</td>\n      <td>0</td>\n      <td>2010-01-26</td>\n      <td>2010-02-23</td>\n      <td>3135.214286</td>\n    </tr>\n    <tr>\n      <th>...</th>\n      <td>...</td>\n      <td>...</td>\n      <td>...</td>\n      <td>...</td>\n      <td>...</td>\n    </tr>\n    <tr>\n      <th>2425104</th>\n      <td>KZB</td>\n      <td>2106</td>\n      <td>2019-11-19</td>\n      <td>2019-12-01</td>\n      <td>0.083333</td>\n    </tr>\n    <tr>\n      <th>2425105</th>\n      <td>KZB</td>\n      <td>2106</td>\n      <td>2019-11-22</td>\n      <td>2019-11-30</td>\n      <td>1.000000</td>\n    </tr>\n    <tr>\n      <th>2425106</th>\n      <td>KZB</td>\n      <td>2106</td>\n      <td>2019-11-22</td>\n      <td>2019-12-01</td>\n      <td>0.111111</td>\n    </tr>\n    <tr>\n      <th>2425107</th>\n      <td>KZB</td>\n      <td>2106</td>\n      <td>2019-11-30</td>\n      <td>2019-12-01</td>\n      <td>-4.000000</td>\n    </tr>\n    <tr>\n      <th>2425108</th>\n      <td>KZB</td>\n      <td>2106</td>\n      <td>2019-12-13</td>\n      <td>2019-12-18</td>\n      <td>0.600000</td>\n    </tr>\n  </tbody>\n</table>\n<p>2425109 rows × 5 columns</p>\n</div>"
     },
     "metadata": {},
     "execution_count": 18
    }
   ],
   "source": [
    "grouped = df[['OBJECT_TYPE_NAME', 'POSTCODE', 'VERBRUIK_STARTDAT', 'VERBRUIK_EINDDATUM', 'AVG_DAY']].groupby(['OBJECT_TYPE_NAME', 'POSTCODE', 'VERBRUIK_STARTDAT', 'VERBRUIK_EINDDATUM']).sum().reset_index()\n",
    "grouped"
   ]
  },
  {
   "cell_type": "code",
   "execution_count": 30,
   "metadata": {},
   "outputs": [
    {
     "output_type": "execute_result",
     "data": {
      "text/plain": [
       "           index OBJECT_TYPE_NAME  POSTCODE      AVG_DAY       DATE\n",
       "0              0              GZB         0   171.916667 2009-12-22\n",
       "1              1              GZB         0    51.882353 2009-12-23\n",
       "2              2              GZB         0  3182.448276 2009-12-28\n",
       "3              3              GZB         0    38.185185 2010-01-26\n",
       "4              4              GZB         0  3135.214286 2010-01-26\n",
       "...          ...              ...       ...          ...        ...\n",
       "4850213  2425104              KZB      2106     0.083333 2019-12-01\n",
       "4850214  2425105              KZB      2106     1.000000 2019-11-30\n",
       "4850215  2425106              KZB      2106     0.111111 2019-12-01\n",
       "4850216  2425107              KZB      2106    -4.000000 2019-12-01\n",
       "4850217  2425108              KZB      2106     0.600000 2019-12-18\n",
       "\n",
       "[4850218 rows x 5 columns]"
      ],
      "text/html": "<div>\n<style scoped>\n    .dataframe tbody tr th:only-of-type {\n        vertical-align: middle;\n    }\n\n    .dataframe tbody tr th {\n        vertical-align: top;\n    }\n\n    .dataframe thead th {\n        text-align: right;\n    }\n</style>\n<table border=\"1\" class=\"dataframe\">\n  <thead>\n    <tr style=\"text-align: right;\">\n      <th></th>\n      <th>index</th>\n      <th>OBJECT_TYPE_NAME</th>\n      <th>POSTCODE</th>\n      <th>AVG_DAY</th>\n      <th>DATE</th>\n    </tr>\n  </thead>\n  <tbody>\n    <tr>\n      <th>0</th>\n      <td>0</td>\n      <td>GZB</td>\n      <td>0</td>\n      <td>171.916667</td>\n      <td>2009-12-22</td>\n    </tr>\n    <tr>\n      <th>1</th>\n      <td>1</td>\n      <td>GZB</td>\n      <td>0</td>\n      <td>51.882353</td>\n      <td>2009-12-23</td>\n    </tr>\n    <tr>\n      <th>2</th>\n      <td>2</td>\n      <td>GZB</td>\n      <td>0</td>\n      <td>3182.448276</td>\n      <td>2009-12-28</td>\n    </tr>\n    <tr>\n      <th>3</th>\n      <td>3</td>\n      <td>GZB</td>\n      <td>0</td>\n      <td>38.185185</td>\n      <td>2010-01-26</td>\n    </tr>\n    <tr>\n      <th>4</th>\n      <td>4</td>\n      <td>GZB</td>\n      <td>0</td>\n      <td>3135.214286</td>\n      <td>2010-01-26</td>\n    </tr>\n    <tr>\n      <th>...</th>\n      <td>...</td>\n      <td>...</td>\n      <td>...</td>\n      <td>...</td>\n      <td>...</td>\n    </tr>\n    <tr>\n      <th>4850213</th>\n      <td>2425104</td>\n      <td>KZB</td>\n      <td>2106</td>\n      <td>0.083333</td>\n      <td>2019-12-01</td>\n    </tr>\n    <tr>\n      <th>4850214</th>\n      <td>2425105</td>\n      <td>KZB</td>\n      <td>2106</td>\n      <td>1.000000</td>\n      <td>2019-11-30</td>\n    </tr>\n    <tr>\n      <th>4850215</th>\n      <td>2425106</td>\n      <td>KZB</td>\n      <td>2106</td>\n      <td>0.111111</td>\n      <td>2019-12-01</td>\n    </tr>\n    <tr>\n      <th>4850216</th>\n      <td>2425107</td>\n      <td>KZB</td>\n      <td>2106</td>\n      <td>-4.000000</td>\n      <td>2019-12-01</td>\n    </tr>\n    <tr>\n      <th>4850217</th>\n      <td>2425108</td>\n      <td>KZB</td>\n      <td>2106</td>\n      <td>0.600000</td>\n      <td>2019-12-18</td>\n    </tr>\n  </tbody>\n</table>\n<p>4850218 rows × 5 columns</p>\n</div>"
     },
     "metadata": {},
     "execution_count": 30
    }
   ],
   "source": [
    "# unpivot grouped dataframe, resulting into two measurements for each row (one for start and one for end date)\n",
    "melt = grouped.reset_index().melt(id_vars=['index', 'OBJECT_TYPE_NAME', 'POSTCODE', 'AVG_DAY'], value_name='DATE').drop('variable', axis=1)\n",
    "melt['DATE'] = pd.to_datetime(melt['DATE'])\n",
    "melt"
   ]
  },
  {
   "cell_type": "code",
   "execution_count": 31,
   "metadata": {},
   "outputs": [
    {
     "output_type": "execute_result",
     "data": {
      "text/plain": [
       "         index OBJECT_TYPE_NAME  POSTCODE      AVG_DAY       DATE\n",
       "0            0              GZB         0   171.916667 2009-12-22\n",
       "1            1              GZB         0    51.882353 2009-12-23\n",
       "2            2              GZB         0  3182.448276 2009-12-28\n",
       "3            3              GZB         0    38.185185 2010-01-26\n",
       "4            4              GZB         0  3135.214286 2010-01-26\n",
       "...        ...              ...       ...          ...        ...\n",
       "2426105    996              GZB      1016    79.833333 2016-10-26\n",
       "2426106    997              GZB      1016    79.076923 2016-11-21\n",
       "2426107    998              GZB      1016    65.571429 2016-12-19\n",
       "2426108    999              GZB      1016    87.990868 2017-07-26\n",
       "2426109   1000              GZB      1016   107.111111 2017-08-22\n",
       "\n",
       "[2002 rows x 5 columns]"
      ],
      "text/html": "<div>\n<style scoped>\n    .dataframe tbody tr th:only-of-type {\n        vertical-align: middle;\n    }\n\n    .dataframe tbody tr th {\n        vertical-align: top;\n    }\n\n    .dataframe thead th {\n        text-align: right;\n    }\n</style>\n<table border=\"1\" class=\"dataframe\">\n  <thead>\n    <tr style=\"text-align: right;\">\n      <th></th>\n      <th>index</th>\n      <th>OBJECT_TYPE_NAME</th>\n      <th>POSTCODE</th>\n      <th>AVG_DAY</th>\n      <th>DATE</th>\n    </tr>\n  </thead>\n  <tbody>\n    <tr>\n      <th>0</th>\n      <td>0</td>\n      <td>GZB</td>\n      <td>0</td>\n      <td>171.916667</td>\n      <td>2009-12-22</td>\n    </tr>\n    <tr>\n      <th>1</th>\n      <td>1</td>\n      <td>GZB</td>\n      <td>0</td>\n      <td>51.882353</td>\n      <td>2009-12-23</td>\n    </tr>\n    <tr>\n      <th>2</th>\n      <td>2</td>\n      <td>GZB</td>\n      <td>0</td>\n      <td>3182.448276</td>\n      <td>2009-12-28</td>\n    </tr>\n    <tr>\n      <th>3</th>\n      <td>3</td>\n      <td>GZB</td>\n      <td>0</td>\n      <td>38.185185</td>\n      <td>2010-01-26</td>\n    </tr>\n    <tr>\n      <th>4</th>\n      <td>4</td>\n      <td>GZB</td>\n      <td>0</td>\n      <td>3135.214286</td>\n      <td>2010-01-26</td>\n    </tr>\n    <tr>\n      <th>...</th>\n      <td>...</td>\n      <td>...</td>\n      <td>...</td>\n      <td>...</td>\n      <td>...</td>\n    </tr>\n    <tr>\n      <th>2426105</th>\n      <td>996</td>\n      <td>GZB</td>\n      <td>1016</td>\n      <td>79.833333</td>\n      <td>2016-10-26</td>\n    </tr>\n    <tr>\n      <th>2426106</th>\n      <td>997</td>\n      <td>GZB</td>\n      <td>1016</td>\n      <td>79.076923</td>\n      <td>2016-11-21</td>\n    </tr>\n    <tr>\n      <th>2426107</th>\n      <td>998</td>\n      <td>GZB</td>\n      <td>1016</td>\n      <td>65.571429</td>\n      <td>2016-12-19</td>\n    </tr>\n    <tr>\n      <th>2426108</th>\n      <td>999</td>\n      <td>GZB</td>\n      <td>1016</td>\n      <td>87.990868</td>\n      <td>2017-07-26</td>\n    </tr>\n    <tr>\n      <th>2426109</th>\n      <td>1000</td>\n      <td>GZB</td>\n      <td>1016</td>\n      <td>107.111111</td>\n      <td>2017-08-22</td>\n    </tr>\n  </tbody>\n</table>\n<p>2002 rows × 5 columns</p>\n</div>"
     },
     "metadata": {},
     "execution_count": 31
    }
   ],
   "source": [
    "# subset for faster testing purposes\n",
    "melt = melt.loc[melt['index'] <= 1000]\n",
    "melt"
   ]
  },
  {
   "cell_type": "code",
   "execution_count": 32,
   "metadata": {},
   "outputs": [
    {
     "output_type": "stream",
     "name": "stdout",
     "text": [
      "5.238324880599976\n"
     ]
    },
    {
     "output_type": "execute_result",
     "data": {
      "text/plain": [
       "            DATE   index OBJECT_TYPE_NAME  POSTCODE     AVG_DAY\n",
       "0     2009-12-22     0.0              GZB       0.0  171.916667\n",
       "1     2009-12-23     0.0              GZB       0.0  171.916667\n",
       "2     2009-12-24     0.0              GZB       0.0  171.916667\n",
       "3     2009-12-25     0.0              GZB       0.0  171.916667\n",
       "4     2009-12-26     0.0              GZB       0.0  171.916667\n",
       "...          ...     ...              ...       ...         ...\n",
       "33104 2017-08-18  1000.0              GZB    1016.0  107.111111\n",
       "33105 2017-08-19  1000.0              GZB    1016.0  107.111111\n",
       "33106 2017-08-20  1000.0              GZB    1016.0  107.111111\n",
       "33107 2017-08-21  1000.0              GZB    1016.0  107.111111\n",
       "33108 2017-08-22  1000.0              GZB    1016.0  107.111111\n",
       "\n",
       "[33109 rows x 5 columns]"
      ],
      "text/html": "<div>\n<style scoped>\n    .dataframe tbody tr th:only-of-type {\n        vertical-align: middle;\n    }\n\n    .dataframe tbody tr th {\n        vertical-align: top;\n    }\n\n    .dataframe thead th {\n        text-align: right;\n    }\n</style>\n<table border=\"1\" class=\"dataframe\">\n  <thead>\n    <tr style=\"text-align: right;\">\n      <th></th>\n      <th>DATE</th>\n      <th>index</th>\n      <th>OBJECT_TYPE_NAME</th>\n      <th>POSTCODE</th>\n      <th>AVG_DAY</th>\n    </tr>\n  </thead>\n  <tbody>\n    <tr>\n      <th>0</th>\n      <td>2009-12-22</td>\n      <td>0.0</td>\n      <td>GZB</td>\n      <td>0.0</td>\n      <td>171.916667</td>\n    </tr>\n    <tr>\n      <th>1</th>\n      <td>2009-12-23</td>\n      <td>0.0</td>\n      <td>GZB</td>\n      <td>0.0</td>\n      <td>171.916667</td>\n    </tr>\n    <tr>\n      <th>2</th>\n      <td>2009-12-24</td>\n      <td>0.0</td>\n      <td>GZB</td>\n      <td>0.0</td>\n      <td>171.916667</td>\n    </tr>\n    <tr>\n      <th>3</th>\n      <td>2009-12-25</td>\n      <td>0.0</td>\n      <td>GZB</td>\n      <td>0.0</td>\n      <td>171.916667</td>\n    </tr>\n    <tr>\n      <th>4</th>\n      <td>2009-12-26</td>\n      <td>0.0</td>\n      <td>GZB</td>\n      <td>0.0</td>\n      <td>171.916667</td>\n    </tr>\n    <tr>\n      <th>...</th>\n      <td>...</td>\n      <td>...</td>\n      <td>...</td>\n      <td>...</td>\n      <td>...</td>\n    </tr>\n    <tr>\n      <th>33104</th>\n      <td>2017-08-18</td>\n      <td>1000.0</td>\n      <td>GZB</td>\n      <td>1016.0</td>\n      <td>107.111111</td>\n    </tr>\n    <tr>\n      <th>33105</th>\n      <td>2017-08-19</td>\n      <td>1000.0</td>\n      <td>GZB</td>\n      <td>1016.0</td>\n      <td>107.111111</td>\n    </tr>\n    <tr>\n      <th>33106</th>\n      <td>2017-08-20</td>\n      <td>1000.0</td>\n      <td>GZB</td>\n      <td>1016.0</td>\n      <td>107.111111</td>\n    </tr>\n    <tr>\n      <th>33107</th>\n      <td>2017-08-21</td>\n      <td>1000.0</td>\n      <td>GZB</td>\n      <td>1016.0</td>\n      <td>107.111111</td>\n    </tr>\n    <tr>\n      <th>33108</th>\n      <td>2017-08-22</td>\n      <td>1000.0</td>\n      <td>GZB</td>\n      <td>1016.0</td>\n      <td>107.111111</td>\n    </tr>\n  </tbody>\n</table>\n<p>33109 rows × 5 columns</p>\n</div>"
     },
     "metadata": {},
     "execution_count": 32
    }
   ],
   "source": [
    "start = time.time()\n",
    "# grouping by index and filling dates between start and end dates\n",
    "melt = melt.groupby('index').apply(lambda x: x.set_index('DATE').resample('D').first())\\\n",
    "           .ffill()\\\n",
    "           .reset_index(level=1)\\\n",
    "           .reset_index(drop=True)\n",
    "\n",
    "print(time.time() - start)\n",
    "melt"
   ]
  },
  {
   "cell_type": "code",
   "execution_count": null,
   "metadata": {},
   "outputs": [],
   "source": []
  }
 ]
}