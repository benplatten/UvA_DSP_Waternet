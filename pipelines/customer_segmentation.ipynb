{
 "metadata": {
  "language_info": {
   "codemirror_mode": {
    "name": "ipython",
    "version": 3
   },
   "file_extension": ".py",
   "mimetype": "text/x-python",
   "name": "python",
   "nbconvert_exporter": "python",
   "pygments_lexer": "ipython3",
   "version": "3.8.1-final"
  },
  "orig_nbformat": 2,
  "kernelspec": {
   "name": "python3",
   "display_name": "Python 3",
   "language": "python"
  }
 },
 "nbformat": 4,
 "nbformat_minor": 2,
 "cells": [
  {
   "cell_type": "code",
   "execution_count": 1,
   "metadata": {},
   "outputs": [],
   "source": [
    "import pandas as pd\n",
    "import numpy as np\n",
    "import seaborn as sns\n",
    "import matplotlib.pyplot as plt\n",
    "from datetime import datetime, timezone, timedelta\n",
    "import time\n",
    "import os"
   ]
  },
  {
   "cell_type": "code",
   "execution_count": 2,
   "metadata": {},
   "outputs": [],
   "source": [
    "# Default settings\n",
    "pd.options.display.max_columns = None\n",
    "%matplotlib inline\n",
    "sns.set(style=\"darkgrid\")\n",
    "random_seed = 42"
   ]
  },
  {
   "cell_type": "code",
   "execution_count": 4,
   "metadata": {},
   "outputs": [
    {
     "output_type": "execute_result",
     "data": {
      "text/plain": [
       "         DATE  index OBJECT_TYPE_NAME  POSTCODE     AVG_DAY\n",
       "0  2009-12-22    0.0              GZB       0.0  171.916667\n",
       "1  2009-12-23    0.0              GZB       0.0  171.916667\n",
       "2  2009-12-24    0.0              GZB       0.0  171.916667\n",
       "3  2009-12-25    0.0              GZB       0.0  171.916667\n",
       "4  2009-12-26    0.0              GZB       0.0  171.916667"
      ],
      "text/html": "<div>\n<style scoped>\n    .dataframe tbody tr th:only-of-type {\n        vertical-align: middle;\n    }\n\n    .dataframe tbody tr th {\n        vertical-align: top;\n    }\n\n    .dataframe thead th {\n        text-align: right;\n    }\n</style>\n<table border=\"1\" class=\"dataframe\">\n  <thead>\n    <tr style=\"text-align: right;\">\n      <th></th>\n      <th>DATE</th>\n      <th>index</th>\n      <th>OBJECT_TYPE_NAME</th>\n      <th>POSTCODE</th>\n      <th>AVG_DAY</th>\n    </tr>\n  </thead>\n  <tbody>\n    <tr>\n      <th>0</th>\n      <td>2009-12-22</td>\n      <td>0.0</td>\n      <td>GZB</td>\n      <td>0.0</td>\n      <td>171.916667</td>\n    </tr>\n    <tr>\n      <th>1</th>\n      <td>2009-12-23</td>\n      <td>0.0</td>\n      <td>GZB</td>\n      <td>0.0</td>\n      <td>171.916667</td>\n    </tr>\n    <tr>\n      <th>2</th>\n      <td>2009-12-24</td>\n      <td>0.0</td>\n      <td>GZB</td>\n      <td>0.0</td>\n      <td>171.916667</td>\n    </tr>\n    <tr>\n      <th>3</th>\n      <td>2009-12-25</td>\n      <td>0.0</td>\n      <td>GZB</td>\n      <td>0.0</td>\n      <td>171.916667</td>\n    </tr>\n    <tr>\n      <th>4</th>\n      <td>2009-12-26</td>\n      <td>0.0</td>\n      <td>GZB</td>\n      <td>0.0</td>\n      <td>171.916667</td>\n    </tr>\n  </tbody>\n</table>\n</div>"
     },
     "metadata": {},
     "execution_count": 4
    }
   ],
   "source": [
    "df = pd.read_csv('data/output_objects_timeseries_1.csv', index_col=0)\n",
    "df.head()"
   ]
  },
  {
   "cell_type": "code",
   "execution_count": 88,
   "metadata": {},
   "outputs": [
    {
     "output_type": "execute_result",
     "data": {
      "text/plain": [
       "(12869616, 8)"
      ]
     },
     "metadata": {},
     "execution_count": 88
    }
   ],
   "source": [
    "df.shape"
   ]
  },
  {
   "cell_type": "code",
   "execution_count": 23,
   "metadata": {},
   "outputs": [
    {
     "output_type": "execute_result",
     "data": {
      "text/plain": [
       "{'Mega': array([2.73972603e+02, 2.73972603e+08]),\n",
       " 'Large': array([ 27.39726027, 273.97260274]),\n",
       " 'Medium': array([ 2.73972603, 27.39726027]),\n",
       " 'Small': array([0.        , 2.73972603])}"
      ]
     },
     "metadata": {},
     "execution_count": 23
    }
   ],
   "source": [
    "segments = {'Mega': np.divide([10e4, 10e10], 365),\\\n",
    "            'Large': np.divide([10e3, 10e4], 365),\\\n",
    "            'Medium': np.divide([10e2, 10e3], 365),\\\n",
    "            'Small': np.divide([0, 10e2], 365)}\n",
    "segments"
   ]
  },
  {
   "cell_type": "code",
   "execution_count": 35,
   "metadata": {},
   "outputs": [
    {
     "output_type": "execute_result",
     "data": {
      "text/plain": [
       "                                         index           0             1\n",
       "[273.972602739726, 273972602.739726]      Mega  273.972603  2.739726e+08\n",
       "[27.397260273972602, 273.972602739726]   Large   27.397260  2.739726e+02\n",
       "[2.73972602739726, 27.397260273972602]  Medium    2.739726  2.739726e+01\n",
       "[0.0, 2.73972602739726]                  Small    0.000000  2.739726e+00"
      ],
      "text/html": "<div>\n<style scoped>\n    .dataframe tbody tr th:only-of-type {\n        vertical-align: middle;\n    }\n\n    .dataframe tbody tr th {\n        vertical-align: top;\n    }\n\n    .dataframe thead th {\n        text-align: right;\n    }\n</style>\n<table border=\"1\" class=\"dataframe\">\n  <thead>\n    <tr style=\"text-align: right;\">\n      <th></th>\n      <th>index</th>\n      <th>0</th>\n      <th>1</th>\n    </tr>\n  </thead>\n  <tbody>\n    <tr>\n      <th>[273.972602739726, 273972602.739726]</th>\n      <td>Mega</td>\n      <td>273.972603</td>\n      <td>2.739726e+08</td>\n    </tr>\n    <tr>\n      <th>[27.397260273972602, 273.972602739726]</th>\n      <td>Large</td>\n      <td>27.397260</td>\n      <td>2.739726e+02</td>\n    </tr>\n    <tr>\n      <th>[2.73972602739726, 27.397260273972602]</th>\n      <td>Medium</td>\n      <td>2.739726</td>\n      <td>2.739726e+01</td>\n    </tr>\n    <tr>\n      <th>[0.0, 2.73972602739726]</th>\n      <td>Small</td>\n      <td>0.000000</td>\n      <td>2.739726e+00</td>\n    </tr>\n  </tbody>\n</table>\n</div>"
     },
     "metadata": {},
     "execution_count": 35
    }
   ],
   "source": [
    "df_segments = pd.DataFrame.from_dict(segments, 'index').reset_index()\n",
    "df_segments.index = pd.IntervalIndex.from_arrays(left=df_segments[0], right=df_segments[1], closed= 'both')\n",
    "df_segments"
   ]
  },
  {
   "cell_type": "code",
   "execution_count": 47,
   "metadata": {},
   "outputs": [
    {
     "output_type": "execute_result",
     "data": {
      "text/plain": [
       "        DATE  index OBJECT_TYPE_NAME  POSTCODE     AVG_DAY Segment\n",
       "0 2009-12-22    0.0              GZB       0.0  171.916667   Large\n",
       "1 2009-12-23    0.0              GZB       0.0  171.916667   Large\n",
       "2 2009-12-24    0.0              GZB       0.0  171.916667   Large\n",
       "3 2009-12-25    0.0              GZB       0.0  171.916667   Large\n",
       "4 2009-12-26    0.0              GZB       0.0  171.916667   Large"
      ],
      "text/html": "<div>\n<style scoped>\n    .dataframe tbody tr th:only-of-type {\n        vertical-align: middle;\n    }\n\n    .dataframe tbody tr th {\n        vertical-align: top;\n    }\n\n    .dataframe thead th {\n        text-align: right;\n    }\n</style>\n<table border=\"1\" class=\"dataframe\">\n  <thead>\n    <tr style=\"text-align: right;\">\n      <th></th>\n      <th>DATE</th>\n      <th>index</th>\n      <th>OBJECT_TYPE_NAME</th>\n      <th>POSTCODE</th>\n      <th>AVG_DAY</th>\n      <th>Segment</th>\n    </tr>\n  </thead>\n  <tbody>\n    <tr>\n      <th>0</th>\n      <td>2009-12-22</td>\n      <td>0.0</td>\n      <td>GZB</td>\n      <td>0.0</td>\n      <td>171.916667</td>\n      <td>Large</td>\n    </tr>\n    <tr>\n      <th>1</th>\n      <td>2009-12-23</td>\n      <td>0.0</td>\n      <td>GZB</td>\n      <td>0.0</td>\n      <td>171.916667</td>\n      <td>Large</td>\n    </tr>\n    <tr>\n      <th>2</th>\n      <td>2009-12-24</td>\n      <td>0.0</td>\n      <td>GZB</td>\n      <td>0.0</td>\n      <td>171.916667</td>\n      <td>Large</td>\n    </tr>\n    <tr>\n      <th>3</th>\n      <td>2009-12-25</td>\n      <td>0.0</td>\n      <td>GZB</td>\n      <td>0.0</td>\n      <td>171.916667</td>\n      <td>Large</td>\n    </tr>\n    <tr>\n      <th>4</th>\n      <td>2009-12-26</td>\n      <td>0.0</td>\n      <td>GZB</td>\n      <td>0.0</td>\n      <td>171.916667</td>\n      <td>Large</td>\n    </tr>\n  </tbody>\n</table>\n</div>"
     },
     "metadata": {},
     "execution_count": 47
    }
   ],
   "source": [
    "df['Segment'] = df_segments.loc[df.AVG_DAY.abs().replace(np.inf, 0)]['index'].values\n",
    "df['DATE'] = pd.to_datetime(df.DATE)\n",
    "df.head()"
   ]
  },
  {
   "cell_type": "code",
   "execution_count": 86,
   "metadata": {},
   "outputs": [
    {
     "output_type": "execute_result",
     "data": {
      "text/plain": [
       "        DATE  index OBJECT_TYPE_NAME  POSTCODE     AVG_DAY Segment  YEAR  \\\n",
       "0 2009-12-22    0.0              GZB       0.0  171.916667   Large  2009   \n",
       "1 2009-12-23    0.0              GZB       0.0  171.916667   Large  2009   \n",
       "2 2009-12-24    0.0              GZB       0.0  171.916667   Large  2009   \n",
       "3 2009-12-25    0.0              GZB       0.0  171.916667   Large  2009   \n",
       "4 2009-12-26    0.0              GZB       0.0  171.916667   Large  2009   \n",
       "\n",
       "   MONTH  \n",
       "0     12  \n",
       "1     12  \n",
       "2     12  \n",
       "3     12  \n",
       "4     12  "
      ],
      "text/html": "<div>\n<style scoped>\n    .dataframe tbody tr th:only-of-type {\n        vertical-align: middle;\n    }\n\n    .dataframe tbody tr th {\n        vertical-align: top;\n    }\n\n    .dataframe thead th {\n        text-align: right;\n    }\n</style>\n<table border=\"1\" class=\"dataframe\">\n  <thead>\n    <tr style=\"text-align: right;\">\n      <th></th>\n      <th>DATE</th>\n      <th>index</th>\n      <th>OBJECT_TYPE_NAME</th>\n      <th>POSTCODE</th>\n      <th>AVG_DAY</th>\n      <th>Segment</th>\n      <th>YEAR</th>\n      <th>MONTH</th>\n    </tr>\n  </thead>\n  <tbody>\n    <tr>\n      <th>0</th>\n      <td>2009-12-22</td>\n      <td>0.0</td>\n      <td>GZB</td>\n      <td>0.0</td>\n      <td>171.916667</td>\n      <td>Large</td>\n      <td>2009</td>\n      <td>12</td>\n    </tr>\n    <tr>\n      <th>1</th>\n      <td>2009-12-23</td>\n      <td>0.0</td>\n      <td>GZB</td>\n      <td>0.0</td>\n      <td>171.916667</td>\n      <td>Large</td>\n      <td>2009</td>\n      <td>12</td>\n    </tr>\n    <tr>\n      <th>2</th>\n      <td>2009-12-24</td>\n      <td>0.0</td>\n      <td>GZB</td>\n      <td>0.0</td>\n      <td>171.916667</td>\n      <td>Large</td>\n      <td>2009</td>\n      <td>12</td>\n    </tr>\n    <tr>\n      <th>3</th>\n      <td>2009-12-25</td>\n      <td>0.0</td>\n      <td>GZB</td>\n      <td>0.0</td>\n      <td>171.916667</td>\n      <td>Large</td>\n      <td>2009</td>\n      <td>12</td>\n    </tr>\n    <tr>\n      <th>4</th>\n      <td>2009-12-26</td>\n      <td>0.0</td>\n      <td>GZB</td>\n      <td>0.0</td>\n      <td>171.916667</td>\n      <td>Large</td>\n      <td>2009</td>\n      <td>12</td>\n    </tr>\n  </tbody>\n</table>\n</div>"
     },
     "metadata": {},
     "execution_count": 86
    }
   ],
   "source": [
    "df.YEAR, df.MONTH = df.DATE.dt.year, df.DATE.dt.month\n",
    "df.head()"
   ]
  },
  {
   "cell_type": "code",
   "execution_count": 87,
   "metadata": {},
   "outputs": [
    {
     "output_type": "execute_result",
     "data": {
      "text/plain": [
       "    OBJECT_TYPE_NAME Segment  YEAR  MONTH        AVG_DAY\n",
       "0                GZB   Large  2009     10     399.972222\n",
       "1                GZB   Large  2009     11    2226.622807\n",
       "2                GZB   Large  2009     12   39276.580306\n",
       "3                GZB   Large  2010      1  144259.491799\n",
       "4                GZB   Large  2010      2  152692.732045\n",
       "..               ...     ...   ...    ...            ...\n",
       "949              HHB   Small  2019      8    7124.414954\n",
       "950              HHB   Small  2019      9    5314.543037\n",
       "951              HHB   Small  2019     10    4160.292063\n",
       "952              HHB   Small  2019     11    2163.500889\n",
       "953              HHB   Small  2019     12     242.303193\n",
       "\n",
       "[954 rows x 5 columns]"
      ],
      "text/html": "<div>\n<style scoped>\n    .dataframe tbody tr th:only-of-type {\n        vertical-align: middle;\n    }\n\n    .dataframe tbody tr th {\n        vertical-align: top;\n    }\n\n    .dataframe thead th {\n        text-align: right;\n    }\n</style>\n<table border=\"1\" class=\"dataframe\">\n  <thead>\n    <tr style=\"text-align: right;\">\n      <th></th>\n      <th>OBJECT_TYPE_NAME</th>\n      <th>Segment</th>\n      <th>YEAR</th>\n      <th>MONTH</th>\n      <th>AVG_DAY</th>\n    </tr>\n  </thead>\n  <tbody>\n    <tr>\n      <th>0</th>\n      <td>GZB</td>\n      <td>Large</td>\n      <td>2009</td>\n      <td>10</td>\n      <td>399.972222</td>\n    </tr>\n    <tr>\n      <th>1</th>\n      <td>GZB</td>\n      <td>Large</td>\n      <td>2009</td>\n      <td>11</td>\n      <td>2226.622807</td>\n    </tr>\n    <tr>\n      <th>2</th>\n      <td>GZB</td>\n      <td>Large</td>\n      <td>2009</td>\n      <td>12</td>\n      <td>39276.580306</td>\n    </tr>\n    <tr>\n      <th>3</th>\n      <td>GZB</td>\n      <td>Large</td>\n      <td>2010</td>\n      <td>1</td>\n      <td>144259.491799</td>\n    </tr>\n    <tr>\n      <th>4</th>\n      <td>GZB</td>\n      <td>Large</td>\n      <td>2010</td>\n      <td>2</td>\n      <td>152692.732045</td>\n    </tr>\n    <tr>\n      <th>...</th>\n      <td>...</td>\n      <td>...</td>\n      <td>...</td>\n      <td>...</td>\n      <td>...</td>\n    </tr>\n    <tr>\n      <th>949</th>\n      <td>HHB</td>\n      <td>Small</td>\n      <td>2019</td>\n      <td>8</td>\n      <td>7124.414954</td>\n    </tr>\n    <tr>\n      <th>950</th>\n      <td>HHB</td>\n      <td>Small</td>\n      <td>2019</td>\n      <td>9</td>\n      <td>5314.543037</td>\n    </tr>\n    <tr>\n      <th>951</th>\n      <td>HHB</td>\n      <td>Small</td>\n      <td>2019</td>\n      <td>10</td>\n      <td>4160.292063</td>\n    </tr>\n    <tr>\n      <th>952</th>\n      <td>HHB</td>\n      <td>Small</td>\n      <td>2019</td>\n      <td>11</td>\n      <td>2163.500889</td>\n    </tr>\n    <tr>\n      <th>953</th>\n      <td>HHB</td>\n      <td>Small</td>\n      <td>2019</td>\n      <td>12</td>\n      <td>242.303193</td>\n    </tr>\n  </tbody>\n</table>\n<p>954 rows × 5 columns</p>\n</div>"
     },
     "metadata": {},
     "execution_count": 87
    }
   ],
   "source": [
    "df_monthly = df.groupby(['OBJECT_TYPE_NAME', 'Segment', 'YEAR', 'MONTH'])['AVG_DAY'].sum().reset_index()\n",
    "df_monthly"
   ]
  },
  {
   "cell_type": "code",
   "execution_count": null,
   "metadata": {},
   "outputs": [],
   "source": []
  }
 ]
}