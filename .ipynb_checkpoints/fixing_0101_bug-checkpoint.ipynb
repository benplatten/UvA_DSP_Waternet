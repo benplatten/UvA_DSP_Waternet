{
 "cells": [
  {
   "cell_type": "code",
   "execution_count": 2,
   "metadata": {},
   "outputs": [
    {
     "data": {
      "text/html": [
       "<style>.container { width:100% !important; }</style>"
      ],
      "text/plain": [
       "<IPython.core.display.HTML object>"
      ]
     },
     "metadata": {},
     "output_type": "display_data"
    }
   ],
   "source": [
    "import pandas as pd\n",
    "import numpy as np\n",
    "\n",
    "from IPython.core.display import display, HTML\n",
    "display(HTML(\"<style>.container { width:100% !important; }</style>\"))"
   ]
  },
  {
   "cell_type": "code",
   "execution_count": 3,
   "metadata": {},
   "outputs": [],
   "source": [
    "df = pd.read_csv(\"../pipeline_data/Export_Verbruik_2010-2019_anon.csv\")\n",
    "\n",
    "df.drop(['Unnamed: 0'],axis=1,inplace=True)\n",
    "\n",
    "columns_eng = [\"CONSUMPTION_ID\",\"CONSUMPTION_OBJECT_ID\",\"CONSUMPTION_START_DATE\",\n",
    "               \"CONSUMPTION_END_DATE\",\"CONSUMPTION_ESTRATED_YN\",\"CONSUMPTION\",\"POSTCODE\",\"CITY\",\"OBJECT_TYPE_NAME\"]\n",
    "\n",
    "df.columns = columns_eng"
   ]
  },
  {
   "cell_type": "code",
   "execution_count": 4,
   "metadata": {},
   "outputs": [],
   "source": [
    "df_test = df[df.CONSUMPTION_ID == '0x6C416AE66696A91A697B0BCDE57A92D0C215F031'] "
   ]
  },
  {
   "cell_type": "code",
   "execution_count": 19,
   "metadata": {},
   "outputs": [
    {
     "data": {
      "text/html": [
       "<div>\n",
       "<style scoped>\n",
       "    .dataframe tbody tr th:only-of-type {\n",
       "        vertical-align: middle;\n",
       "    }\n",
       "\n",
       "    .dataframe tbody tr th {\n",
       "        vertical-align: top;\n",
       "    }\n",
       "\n",
       "    .dataframe thead th {\n",
       "        text-align: right;\n",
       "    }\n",
       "</style>\n",
       "<table border=\"1\" class=\"dataframe\">\n",
       "  <thead>\n",
       "    <tr style=\"text-align: right;\">\n",
       "      <th></th>\n",
       "      <th>CONSUMPTION_ID</th>\n",
       "      <th>CONSUMPTION_OBJECT_ID</th>\n",
       "      <th>CONSUMPTION_START_DATE</th>\n",
       "      <th>CONSUMPTION_END_DATE</th>\n",
       "      <th>CONSUMPTION_ESTRATED_YN</th>\n",
       "      <th>CONSUMPTION</th>\n",
       "      <th>POSTCODE</th>\n",
       "      <th>CITY</th>\n",
       "      <th>OBJECT_TYPE_NAME</th>\n",
       "      <th>period</th>\n",
       "      <th>consumption_per_day</th>\n",
       "    </tr>\n",
       "  </thead>\n",
       "  <tbody>\n",
       "    <tr>\n",
       "      <th>2288552</th>\n",
       "      <td>0x6C416AE66696A91A697B0BCDE57A92D0C215F031</td>\n",
       "      <td>0x00007D66B6B07398948077754DB6EFA778CE11ED</td>\n",
       "      <td>2018-01-01</td>\n",
       "      <td>2018-12-05</td>\n",
       "      <td>N</td>\n",
       "      <td>170.0</td>\n",
       "      <td>1092</td>\n",
       "      <td>AMSTERDAM</td>\n",
       "      <td>HHB</td>\n",
       "      <td>338</td>\n",
       "      <td>0.502959</td>\n",
       "    </tr>\n",
       "  </tbody>\n",
       "</table>\n",
       "</div>"
      ],
      "text/plain": [
       "                                     CONSUMPTION_ID  \\\n",
       "2288552  0x6C416AE66696A91A697B0BCDE57A92D0C215F031   \n",
       "\n",
       "                              CONSUMPTION_OBJECT_ID CONSUMPTION_START_DATE  \\\n",
       "2288552  0x00007D66B6B07398948077754DB6EFA778CE11ED             2018-01-01   \n",
       "\n",
       "        CONSUMPTION_END_DATE CONSUMPTION_ESTRATED_YN  CONSUMPTION  POSTCODE  \\\n",
       "2288552           2018-12-05                       N        170.0      1092   \n",
       "\n",
       "              CITY OBJECT_TYPE_NAME  period  consumption_per_day  \n",
       "2288552  AMSTERDAM              HHB     338             0.502959  "
      ]
     },
     "execution_count": 19,
     "metadata": {},
     "output_type": "execute_result"
    }
   ],
   "source": [
    "df_test"
   ]
  },
  {
   "cell_type": "code",
   "execution_count": 20,
   "metadata": {},
   "outputs": [],
   "source": [
    "df = df_test\n",
    "df['CONSUMPTION_START_DATE'] = df['CONSUMPTION_START_DATE'].apply(lambda x: pd.to_datetime(x, format='%Y-%m-%d'))\n",
    "df['CONSUMPTION_END_DATE'] = df['CONSUMPTION_END_DATE'].apply(lambda x: pd.to_datetime(x, format='%Y-%m-%d'))"
   ]
  },
  {
   "cell_type": "code",
   "execution_count": 21,
   "metadata": {},
   "outputs": [],
   "source": [
    "df['period'] = df['CONSUMPTION_END_DATE'] - df['CONSUMPTION_START_DATE']\n",
    "df['period'] = df['period'].dt.days\n",
    "df['consumption_per_day'] = df['CONSUMPTION'] / df['period']"
   ]
  },
  {
   "cell_type": "code",
   "execution_count": 30,
   "metadata": {},
   "outputs": [],
   "source": [
    "df1 = pd.concat([pd.Series(r.CONSUMPTION_ID,pd.date_range(r.CONSUMPTION_START_DATE, r.CONSUMPTION_END_DATE, freq='YS'))for r in df.itertuples()]).reset_index()\n",
    "df1.columns = ['CONSUMPTION_START_DATE','CONSUMPTION_ID']"
   ]
  },
  {
   "cell_type": "code",
   "execution_count": 35,
   "metadata": {},
   "outputs": [
    {
     "data": {
      "text/plain": [
       "DatetimeIndex(['2018-01-01'], dtype='datetime64[ns]', freq='AS-JAN')"
      ]
     },
     "execution_count": 35,
     "metadata": {},
     "output_type": "execute_result"
    }
   ],
   "source": [
    "pd.date_range(df.iloc[0].CONSUMPTION_START_DATE, df.iloc[0].CONSUMPTION_END_DATE, freq='YS')"
   ]
  },
  {
   "cell_type": "code",
   "execution_count": 32,
   "metadata": {},
   "outputs": [
    {
     "data": {
      "text/html": [
       "<div>\n",
       "<style scoped>\n",
       "    .dataframe tbody tr th:only-of-type {\n",
       "        vertical-align: middle;\n",
       "    }\n",
       "\n",
       "    .dataframe tbody tr th {\n",
       "        vertical-align: top;\n",
       "    }\n",
       "\n",
       "    .dataframe thead th {\n",
       "        text-align: right;\n",
       "    }\n",
       "</style>\n",
       "<table border=\"1\" class=\"dataframe\">\n",
       "  <thead>\n",
       "    <tr style=\"text-align: right;\">\n",
       "      <th></th>\n",
       "      <th>CONSUMPTION_ID</th>\n",
       "      <th>CONSUMPTION_OBJECT_ID</th>\n",
       "      <th>CONSUMPTION_START_DATE</th>\n",
       "      <th>CONSUMPTION_END_DATE</th>\n",
       "      <th>CONSUMPTION_ESTRATED_YN</th>\n",
       "      <th>CONSUMPTION</th>\n",
       "      <th>POSTCODE</th>\n",
       "      <th>CITY</th>\n",
       "      <th>OBJECT_TYPE_NAME</th>\n",
       "      <th>period</th>\n",
       "      <th>consumption_per_day</th>\n",
       "    </tr>\n",
       "  </thead>\n",
       "  <tbody>\n",
       "    <tr>\n",
       "      <th>2288552</th>\n",
       "      <td>0x6C416AE66696A91A697B0BCDE57A92D0C215F031</td>\n",
       "      <td>0x00007D66B6B07398948077754DB6EFA778CE11ED</td>\n",
       "      <td>2018-01-01</td>\n",
       "      <td>2018-12-05</td>\n",
       "      <td>N</td>\n",
       "      <td>170.0</td>\n",
       "      <td>1092</td>\n",
       "      <td>AMSTERDAM</td>\n",
       "      <td>HHB</td>\n",
       "      <td>338</td>\n",
       "      <td>0.502959</td>\n",
       "    </tr>\n",
       "  </tbody>\n",
       "</table>\n",
       "</div>"
      ],
      "text/plain": [
       "                                     CONSUMPTION_ID  \\\n",
       "2288552  0x6C416AE66696A91A697B0BCDE57A92D0C215F031   \n",
       "\n",
       "                              CONSUMPTION_OBJECT_ID CONSUMPTION_START_DATE  \\\n",
       "2288552  0x00007D66B6B07398948077754DB6EFA778CE11ED             2018-01-01   \n",
       "\n",
       "        CONSUMPTION_END_DATE CONSUMPTION_ESTRATED_YN  CONSUMPTION  POSTCODE  \\\n",
       "2288552           2018-12-05                       N        170.0      1092   \n",
       "\n",
       "              CITY OBJECT_TYPE_NAME  period  consumption_per_day  \n",
       "2288552  AMSTERDAM              HHB     338             0.502959  "
      ]
     },
     "execution_count": 32,
     "metadata": {},
     "output_type": "execute_result"
    }
   ],
   "source": [
    "df"
   ]
  },
  {
   "cell_type": "code",
   "execution_count": 31,
   "metadata": {},
   "outputs": [
    {
     "data": {
      "text/html": [
       "<div>\n",
       "<style scoped>\n",
       "    .dataframe tbody tr th:only-of-type {\n",
       "        vertical-align: middle;\n",
       "    }\n",
       "\n",
       "    .dataframe tbody tr th {\n",
       "        vertical-align: top;\n",
       "    }\n",
       "\n",
       "    .dataframe thead th {\n",
       "        text-align: right;\n",
       "    }\n",
       "</style>\n",
       "<table border=\"1\" class=\"dataframe\">\n",
       "  <thead>\n",
       "    <tr style=\"text-align: right;\">\n",
       "      <th></th>\n",
       "      <th>CONSUMPTION_START_DATE</th>\n",
       "      <th>CONSUMPTION_ID</th>\n",
       "    </tr>\n",
       "  </thead>\n",
       "  <tbody>\n",
       "    <tr>\n",
       "      <th>0</th>\n",
       "      <td>2018-01-01</td>\n",
       "      <td>0x6C416AE66696A91A697B0BCDE57A92D0C215F031</td>\n",
       "    </tr>\n",
       "  </tbody>\n",
       "</table>\n",
       "</div>"
      ],
      "text/plain": [
       "  CONSUMPTION_START_DATE                              CONSUMPTION_ID\n",
       "0             2018-01-01  0x6C416AE66696A91A697B0BCDE57A92D0C215F031"
      ]
     },
     "execution_count": 31,
     "metadata": {},
     "output_type": "execute_result"
    }
   ],
   "source": [
    "df1"
   ]
  },
  {
   "cell_type": "code",
   "execution_count": 24,
   "metadata": {},
   "outputs": [],
   "source": [
    "df2 = (pd.concat([df[['CONSUMPTION_ID','CONSUMPTION_START_DATE']], df1], sort=False, ignore_index=True)\n",
    " .sort_values(['CONSUMPTION_ID','CONSUMPTION_START_DATE'])\n",
    " .reset_index(drop=True))"
   ]
  },
  {
   "cell_type": "code",
   "execution_count": 26,
   "metadata": {},
   "outputs": [
    {
     "data": {
      "text/html": [
       "<div>\n",
       "<style scoped>\n",
       "    .dataframe tbody tr th:only-of-type {\n",
       "        vertical-align: middle;\n",
       "    }\n",
       "\n",
       "    .dataframe tbody tr th {\n",
       "        vertical-align: top;\n",
       "    }\n",
       "\n",
       "    .dataframe thead th {\n",
       "        text-align: right;\n",
       "    }\n",
       "</style>\n",
       "<table border=\"1\" class=\"dataframe\">\n",
       "  <thead>\n",
       "    <tr style=\"text-align: right;\">\n",
       "      <th></th>\n",
       "      <th>CONSUMPTION_ID</th>\n",
       "      <th>CONSUMPTION_START_DATE</th>\n",
       "    </tr>\n",
       "  </thead>\n",
       "  <tbody>\n",
       "    <tr>\n",
       "      <th>2288552</th>\n",
       "      <td>0x6C416AE66696A91A697B0BCDE57A92D0C215F031</td>\n",
       "      <td>2018-01-01</td>\n",
       "    </tr>\n",
       "  </tbody>\n",
       "</table>\n",
       "</div>"
      ],
      "text/plain": [
       "                                     CONSUMPTION_ID CONSUMPTION_START_DATE\n",
       "2288552  0x6C416AE66696A91A697B0BCDE57A92D0C215F031             2018-01-01"
      ]
     },
     "execution_count": 26,
     "metadata": {},
     "output_type": "execute_result"
    }
   ],
   "source": [
    "df[['CONSUMPTION_ID','CONSUMPTION_START_DATE']]"
   ]
  },
  {
   "cell_type": "code",
   "execution_count": 27,
   "metadata": {},
   "outputs": [
    {
     "data": {
      "text/html": [
       "<div>\n",
       "<style scoped>\n",
       "    .dataframe tbody tr th:only-of-type {\n",
       "        vertical-align: middle;\n",
       "    }\n",
       "\n",
       "    .dataframe tbody tr th {\n",
       "        vertical-align: top;\n",
       "    }\n",
       "\n",
       "    .dataframe thead th {\n",
       "        text-align: right;\n",
       "    }\n",
       "</style>\n",
       "<table border=\"1\" class=\"dataframe\">\n",
       "  <thead>\n",
       "    <tr style=\"text-align: right;\">\n",
       "      <th></th>\n",
       "      <th>CONSUMPTION_START_DATE</th>\n",
       "      <th>CONSUMPTION_ID</th>\n",
       "    </tr>\n",
       "  </thead>\n",
       "  <tbody>\n",
       "    <tr>\n",
       "      <th>0</th>\n",
       "      <td>2018-01-01</td>\n",
       "      <td>0x6C416AE66696A91A697B0BCDE57A92D0C215F031</td>\n",
       "    </tr>\n",
       "  </tbody>\n",
       "</table>\n",
       "</div>"
      ],
      "text/plain": [
       "  CONSUMPTION_START_DATE                              CONSUMPTION_ID\n",
       "0             2018-01-01  0x6C416AE66696A91A697B0BCDE57A92D0C215F031"
      ]
     },
     "execution_count": 27,
     "metadata": {},
     "output_type": "execute_result"
    }
   ],
   "source": [
    "df1"
   ]
  },
  {
   "cell_type": "code",
   "execution_count": null,
   "metadata": {},
   "outputs": [],
   "source": []
  },
  {
   "cell_type": "code",
   "execution_count": 25,
   "metadata": {},
   "outputs": [
    {
     "data": {
      "text/html": [
       "<div>\n",
       "<style scoped>\n",
       "    .dataframe tbody tr th:only-of-type {\n",
       "        vertical-align: middle;\n",
       "    }\n",
       "\n",
       "    .dataframe tbody tr th {\n",
       "        vertical-align: top;\n",
       "    }\n",
       "\n",
       "    .dataframe thead th {\n",
       "        text-align: right;\n",
       "    }\n",
       "</style>\n",
       "<table border=\"1\" class=\"dataframe\">\n",
       "  <thead>\n",
       "    <tr style=\"text-align: right;\">\n",
       "      <th></th>\n",
       "      <th>CONSUMPTION_ID</th>\n",
       "      <th>CONSUMPTION_START_DATE</th>\n",
       "    </tr>\n",
       "  </thead>\n",
       "  <tbody>\n",
       "    <tr>\n",
       "      <th>0</th>\n",
       "      <td>0x6C416AE66696A91A697B0BCDE57A92D0C215F031</td>\n",
       "      <td>2018-01-01</td>\n",
       "    </tr>\n",
       "    <tr>\n",
       "      <th>1</th>\n",
       "      <td>0x6C416AE66696A91A697B0BCDE57A92D0C215F031</td>\n",
       "      <td>2018-01-01</td>\n",
       "    </tr>\n",
       "  </tbody>\n",
       "</table>\n",
       "</div>"
      ],
      "text/plain": [
       "                               CONSUMPTION_ID CONSUMPTION_START_DATE\n",
       "0  0x6C416AE66696A91A697B0BCDE57A92D0C215F031             2018-01-01\n",
       "1  0x6C416AE66696A91A697B0BCDE57A92D0C215F031             2018-01-01"
      ]
     },
     "execution_count": 25,
     "metadata": {},
     "output_type": "execute_result"
    }
   ],
   "source": [
    "df2"
   ]
  },
  {
   "cell_type": "code",
   "execution_count": 15,
   "metadata": {},
   "outputs": [],
   "source": [
    "mask = df2['CONSUMPTION_ID'].duplicated(keep='last')\n",
    "s = df2['CONSUMPTION_ID'].map(df.set_index('CONSUMPTION_ID')['CONSUMPTION_END_DATE'])\n",
    "df2['CONSUMPTION_END_DATE'] = np.where(mask, df2['CONSUMPTION_START_DATE'] + pd.offsets.YearEnd(), s)"
   ]
  },
  {
   "cell_type": "code",
   "execution_count": 16,
   "metadata": {},
   "outputs": [
    {
     "data": {
      "text/html": [
       "<div>\n",
       "<style scoped>\n",
       "    .dataframe tbody tr th:only-of-type {\n",
       "        vertical-align: middle;\n",
       "    }\n",
       "\n",
       "    .dataframe tbody tr th {\n",
       "        vertical-align: top;\n",
       "    }\n",
       "\n",
       "    .dataframe thead th {\n",
       "        text-align: right;\n",
       "    }\n",
       "</style>\n",
       "<table border=\"1\" class=\"dataframe\">\n",
       "  <thead>\n",
       "    <tr style=\"text-align: right;\">\n",
       "      <th></th>\n",
       "      <th>CONSUMPTION_ID</th>\n",
       "      <th>CONSUMPTION_START_DATE</th>\n",
       "      <th>CONSUMPTION_END_DATE</th>\n",
       "    </tr>\n",
       "  </thead>\n",
       "  <tbody>\n",
       "    <tr>\n",
       "      <th>0</th>\n",
       "      <td>0x6C416AE66696A91A697B0BCDE57A92D0C215F031</td>\n",
       "      <td>2018-01-01</td>\n",
       "      <td>2018-12-31</td>\n",
       "    </tr>\n",
       "    <tr>\n",
       "      <th>1</th>\n",
       "      <td>0x6C416AE66696A91A697B0BCDE57A92D0C215F031</td>\n",
       "      <td>2018-01-01</td>\n",
       "      <td>2018-12-05</td>\n",
       "    </tr>\n",
       "  </tbody>\n",
       "</table>\n",
       "</div>"
      ],
      "text/plain": [
       "                               CONSUMPTION_ID CONSUMPTION_START_DATE  \\\n",
       "0  0x6C416AE66696A91A697B0BCDE57A92D0C215F031             2018-01-01   \n",
       "1  0x6C416AE66696A91A697B0BCDE57A92D0C215F031             2018-01-01   \n",
       "\n",
       "  CONSUMPTION_END_DATE  \n",
       "0           2018-12-31  \n",
       "1           2018-12-05  "
      ]
     },
     "execution_count": 16,
     "metadata": {},
     "output_type": "execute_result"
    }
   ],
   "source": [
    "df2"
   ]
  },
  {
   "cell_type": "code",
   "execution_count": null,
   "metadata": {},
   "outputs": [],
   "source": []
  },
  {
   "cell_type": "code",
   "execution_count": null,
   "metadata": {},
   "outputs": [],
   "source": []
  },
  {
   "cell_type": "code",
   "execution_count": null,
   "metadata": {},
   "outputs": [],
   "source": []
  },
  {
   "cell_type": "code",
   "execution_count": 17,
   "metadata": {},
   "outputs": [],
   "source": [
    "df_values = df[['CONSUMPTION_ID','CONSUMPTION_OBJECT_ID','consumption_per_day']]\n",
    "df_categories = df.drop(['CONSUMPTION_START_DATE','CONSUMPTION_END_DATE','period','CONSUMPTION','consumption_per_day','CONSUMPTION_ID'],axis=1)\n",
    "df_categories = df_categories.groupby(['CONSUMPTION_OBJECT_ID']).first().reset_index()\n",
    "\n",
    "consumption_yearly = df2.merge(df_values,on='CONSUMPTION_ID',how='left')\n",
    "consumption_yearly['days'] = consumption_yearly['CONSUMPTION_END_DATE'] - consumption_yearly['CONSUMPTION_START_DATE']\n",
    "consumption_yearly['days'] = consumption_yearly['days'].dt.days\n",
    "consumption_yearly['CONSUMPTION'] = consumption_yearly['days'] * consumption_yearly['consumption_per_day']\n",
    "consumption_yearly['year'] = consumption_yearly['CONSUMPTION_START_DATE'].dt.year\n",
    "consumption_yearly.drop(consumption_yearly[consumption_yearly['CONSUMPTION_START_DATE'].dt.year < 2010].index,inplace=True)"
   ]
  },
  {
   "cell_type": "code",
   "execution_count": 18,
   "metadata": {},
   "outputs": [
    {
     "data": {
      "text/html": [
       "<div>\n",
       "<style scoped>\n",
       "    .dataframe tbody tr th:only-of-type {\n",
       "        vertical-align: middle;\n",
       "    }\n",
       "\n",
       "    .dataframe tbody tr th {\n",
       "        vertical-align: top;\n",
       "    }\n",
       "\n",
       "    .dataframe thead th {\n",
       "        text-align: right;\n",
       "    }\n",
       "</style>\n",
       "<table border=\"1\" class=\"dataframe\">\n",
       "  <thead>\n",
       "    <tr style=\"text-align: right;\">\n",
       "      <th></th>\n",
       "      <th>CONSUMPTION_ID</th>\n",
       "      <th>CONSUMPTION_START_DATE</th>\n",
       "      <th>CONSUMPTION_END_DATE</th>\n",
       "      <th>CONSUMPTION_OBJECT_ID</th>\n",
       "      <th>consumption_per_day</th>\n",
       "      <th>days</th>\n",
       "      <th>CONSUMPTION</th>\n",
       "      <th>year</th>\n",
       "    </tr>\n",
       "  </thead>\n",
       "  <tbody>\n",
       "    <tr>\n",
       "      <th>0</th>\n",
       "      <td>0x6C416AE66696A91A697B0BCDE57A92D0C215F031</td>\n",
       "      <td>2018-01-01</td>\n",
       "      <td>2018-12-31</td>\n",
       "      <td>0x00007D66B6B07398948077754DB6EFA778CE11ED</td>\n",
       "      <td>0.502959</td>\n",
       "      <td>364</td>\n",
       "      <td>183.076923</td>\n",
       "      <td>2018</td>\n",
       "    </tr>\n",
       "    <tr>\n",
       "      <th>1</th>\n",
       "      <td>0x6C416AE66696A91A697B0BCDE57A92D0C215F031</td>\n",
       "      <td>2018-01-01</td>\n",
       "      <td>2018-12-05</td>\n",
       "      <td>0x00007D66B6B07398948077754DB6EFA778CE11ED</td>\n",
       "      <td>0.502959</td>\n",
       "      <td>338</td>\n",
       "      <td>170.000000</td>\n",
       "      <td>2018</td>\n",
       "    </tr>\n",
       "  </tbody>\n",
       "</table>\n",
       "</div>"
      ],
      "text/plain": [
       "                               CONSUMPTION_ID CONSUMPTION_START_DATE  \\\n",
       "0  0x6C416AE66696A91A697B0BCDE57A92D0C215F031             2018-01-01   \n",
       "1  0x6C416AE66696A91A697B0BCDE57A92D0C215F031             2018-01-01   \n",
       "\n",
       "  CONSUMPTION_END_DATE                       CONSUMPTION_OBJECT_ID  \\\n",
       "0           2018-12-31  0x00007D66B6B07398948077754DB6EFA778CE11ED   \n",
       "1           2018-12-05  0x00007D66B6B07398948077754DB6EFA778CE11ED   \n",
       "\n",
       "   consumption_per_day  days  CONSUMPTION  year  \n",
       "0             0.502959   364   183.076923  2018  \n",
       "1             0.502959   338   170.000000  2018  "
      ]
     },
     "execution_count": 18,
     "metadata": {},
     "output_type": "execute_result"
    }
   ],
   "source": [
    "consumption_yearly"
   ]
  },
  {
   "cell_type": "code",
   "execution_count": null,
   "metadata": {},
   "outputs": [],
   "source": [
    "consumption_yearly_grouped = consumption_yearly.groupby(['CONSUMPTION_OBJECT_ID','year']).sum().reset_index()\n",
    "consumption_yearly_grouped = consumption_yearly_grouped.merge(df_categories, on='CONSUMPTION_OBJECT_ID',how='left')\n",
    "consumption_yearly_grouped"
   ]
  }
 ],
 "metadata": {
  "kernelspec": {
   "display_name": "werkcollege",
   "language": "python",
   "name": "werkcollege"
  },
  "language_info": {
   "codemirror_mode": {
    "name": "ipython",
    "version": 3
   },
   "file_extension": ".py",
   "mimetype": "text/x-python",
   "name": "python",
   "nbconvert_exporter": "python",
   "pygments_lexer": "ipython3",
   "version": "3.7.2"
  }
 },
 "nbformat": 4,
 "nbformat_minor": 4
}
